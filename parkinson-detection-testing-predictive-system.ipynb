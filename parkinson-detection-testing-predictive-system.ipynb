{
 "cells": [
  {
   "cell_type": "markdown",
   "id": "b0f38e31",
   "metadata": {
    "papermill": {
     "duration": 0.041091,
     "end_time": "2021-09-12T08:21:38.148656",
     "exception": false,
     "start_time": "2021-09-12T08:21:38.107565",
     "status": "completed"
    },
    "tags": []
   },
   "source": [
    "Original Dataset : https://www.kaggle.com/nidaguler/parkinsons-data-set\n",
    "\n",
    "Download Dataset in CSV : https://www.kaggle.com/sagarbapodara/parkinson-csv"
   ]
  },
  {
   "cell_type": "code",
   "execution_count": 1,
   "id": "33546885",
   "metadata": {
    "_cell_guid": "b1076dfc-b9ad-4769-8c92-a6c4dae69d19",
    "_uuid": "8f2839f25d086af736a60e9eeb907d3b93b6e0e5",
    "execution": {
     "iopub.execute_input": "2021-09-12T08:21:38.238620Z",
     "iopub.status.busy": "2021-09-12T08:21:38.236787Z",
     "iopub.status.idle": "2021-09-12T08:21:39.441583Z",
     "shell.execute_reply": "2021-09-12T08:21:39.440366Z",
     "shell.execute_reply.started": "2021-09-12T07:19:50.7612Z"
    },
    "papermill": {
     "duration": 1.249194,
     "end_time": "2021-09-12T08:21:39.441755",
     "exception": false,
     "start_time": "2021-09-12T08:21:38.192561",
     "status": "completed"
    },
    "tags": []
   },
   "outputs": [
    {
     "name": "stdout",
     "output_type": "stream",
     "text": [
      "Libraries imported\n"
     ]
    }
   ],
   "source": [
    "# <--==== Importing Necessary Libraries ====-->\n",
    "import os\n",
    "import pandas as pd\n",
    "import numpy as np\n",
    "import seaborn as sns\n",
    "import matplotlib.pyplot as plt\n",
    "from sklearn.model_selection import train_test_split\n",
    "from sklearn.preprocessing import StandardScaler\n",
    "from sklearn import svm\n",
    "from sklearn.metrics import accuracy_score\n",
    "print(\"Libraries imported\")"
   ]
  },
  {
   "cell_type": "markdown",
   "id": "73e2cb58",
   "metadata": {
    "papermill": {
     "duration": 0.040198,
     "end_time": "2021-09-12T08:21:39.522834",
     "exception": false,
     "start_time": "2021-09-12T08:21:39.482636",
     "status": "completed"
    },
    "tags": []
   },
   "source": [
    "# Dataset"
   ]
  },
  {
   "cell_type": "code",
   "execution_count": 2,
   "id": "02f5d535",
   "metadata": {
    "execution": {
     "iopub.execute_input": "2021-09-12T08:21:39.609603Z",
     "iopub.status.busy": "2021-09-12T08:21:39.608935Z",
     "iopub.status.idle": "2021-09-12T08:21:39.668935Z",
     "shell.execute_reply": "2021-09-12T08:21:39.669450Z",
     "shell.execute_reply.started": "2021-09-12T07:22:25.696228Z"
    },
    "papermill": {
     "duration": 0.106297,
     "end_time": "2021-09-12T08:21:39.669637",
     "exception": false,
     "start_time": "2021-09-12T08:21:39.563340",
     "status": "completed"
    },
    "tags": []
   },
   "outputs": [
    {
     "data": {
      "text/html": [
       "<div>\n",
       "<style scoped>\n",
       "    .dataframe tbody tr th:only-of-type {\n",
       "        vertical-align: middle;\n",
       "    }\n",
       "\n",
       "    .dataframe tbody tr th {\n",
       "        vertical-align: top;\n",
       "    }\n",
       "\n",
       "    .dataframe thead th {\n",
       "        text-align: right;\n",
       "    }\n",
       "</style>\n",
       "<table border=\"1\" class=\"dataframe\">\n",
       "  <thead>\n",
       "    <tr style=\"text-align: right;\">\n",
       "      <th></th>\n",
       "      <th>name</th>\n",
       "      <th>MDVP:Fo(Hz)</th>\n",
       "      <th>MDVP:Fhi(Hz)</th>\n",
       "      <th>MDVP:Flo(Hz)</th>\n",
       "      <th>MDVP:Jitter(%)</th>\n",
       "      <th>MDVP:Jitter(Abs)</th>\n",
       "      <th>MDVP:RAP</th>\n",
       "      <th>MDVP:PPQ</th>\n",
       "      <th>Jitter:DDP</th>\n",
       "      <th>MDVP:Shimmer</th>\n",
       "      <th>...</th>\n",
       "      <th>Shimmer:DDA</th>\n",
       "      <th>NHR</th>\n",
       "      <th>HNR</th>\n",
       "      <th>status</th>\n",
       "      <th>RPDE</th>\n",
       "      <th>DFA</th>\n",
       "      <th>spread1</th>\n",
       "      <th>spread2</th>\n",
       "      <th>D2</th>\n",
       "      <th>PPE</th>\n",
       "    </tr>\n",
       "  </thead>\n",
       "  <tbody>\n",
       "    <tr>\n",
       "      <th>0</th>\n",
       "      <td>phon_R01_S01_1</td>\n",
       "      <td>119.992</td>\n",
       "      <td>157.302</td>\n",
       "      <td>74.997</td>\n",
       "      <td>0.00784</td>\n",
       "      <td>0.00007</td>\n",
       "      <td>0.00370</td>\n",
       "      <td>0.00554</td>\n",
       "      <td>0.01109</td>\n",
       "      <td>0.04374</td>\n",
       "      <td>...</td>\n",
       "      <td>0.06545</td>\n",
       "      <td>0.02211</td>\n",
       "      <td>21.033</td>\n",
       "      <td>1</td>\n",
       "      <td>0.414783</td>\n",
       "      <td>0.815285</td>\n",
       "      <td>-4.813031</td>\n",
       "      <td>0.266482</td>\n",
       "      <td>2.301442</td>\n",
       "      <td>0.284654</td>\n",
       "    </tr>\n",
       "    <tr>\n",
       "      <th>1</th>\n",
       "      <td>phon_R01_S01_2</td>\n",
       "      <td>122.400</td>\n",
       "      <td>148.650</td>\n",
       "      <td>113.819</td>\n",
       "      <td>0.00968</td>\n",
       "      <td>0.00008</td>\n",
       "      <td>0.00465</td>\n",
       "      <td>0.00696</td>\n",
       "      <td>0.01394</td>\n",
       "      <td>0.06134</td>\n",
       "      <td>...</td>\n",
       "      <td>0.09403</td>\n",
       "      <td>0.01929</td>\n",
       "      <td>19.085</td>\n",
       "      <td>1</td>\n",
       "      <td>0.458359</td>\n",
       "      <td>0.819521</td>\n",
       "      <td>-4.075192</td>\n",
       "      <td>0.335590</td>\n",
       "      <td>2.486855</td>\n",
       "      <td>0.368674</td>\n",
       "    </tr>\n",
       "    <tr>\n",
       "      <th>2</th>\n",
       "      <td>phon_R01_S01_3</td>\n",
       "      <td>116.682</td>\n",
       "      <td>131.111</td>\n",
       "      <td>111.555</td>\n",
       "      <td>0.01050</td>\n",
       "      <td>0.00009</td>\n",
       "      <td>0.00544</td>\n",
       "      <td>0.00781</td>\n",
       "      <td>0.01633</td>\n",
       "      <td>0.05233</td>\n",
       "      <td>...</td>\n",
       "      <td>0.08270</td>\n",
       "      <td>0.01309</td>\n",
       "      <td>20.651</td>\n",
       "      <td>1</td>\n",
       "      <td>0.429895</td>\n",
       "      <td>0.825288</td>\n",
       "      <td>-4.443179</td>\n",
       "      <td>0.311173</td>\n",
       "      <td>2.342259</td>\n",
       "      <td>0.332634</td>\n",
       "    </tr>\n",
       "    <tr>\n",
       "      <th>3</th>\n",
       "      <td>phon_R01_S01_4</td>\n",
       "      <td>116.676</td>\n",
       "      <td>137.871</td>\n",
       "      <td>111.366</td>\n",
       "      <td>0.00997</td>\n",
       "      <td>0.00009</td>\n",
       "      <td>0.00502</td>\n",
       "      <td>0.00698</td>\n",
       "      <td>0.01505</td>\n",
       "      <td>0.05492</td>\n",
       "      <td>...</td>\n",
       "      <td>0.08771</td>\n",
       "      <td>0.01353</td>\n",
       "      <td>20.644</td>\n",
       "      <td>1</td>\n",
       "      <td>0.434969</td>\n",
       "      <td>0.819235</td>\n",
       "      <td>-4.117501</td>\n",
       "      <td>0.334147</td>\n",
       "      <td>2.405554</td>\n",
       "      <td>0.368975</td>\n",
       "    </tr>\n",
       "    <tr>\n",
       "      <th>4</th>\n",
       "      <td>phon_R01_S01_5</td>\n",
       "      <td>116.014</td>\n",
       "      <td>141.781</td>\n",
       "      <td>110.655</td>\n",
       "      <td>0.01284</td>\n",
       "      <td>0.00011</td>\n",
       "      <td>0.00655</td>\n",
       "      <td>0.00908</td>\n",
       "      <td>0.01966</td>\n",
       "      <td>0.06425</td>\n",
       "      <td>...</td>\n",
       "      <td>0.10470</td>\n",
       "      <td>0.01767</td>\n",
       "      <td>19.649</td>\n",
       "      <td>1</td>\n",
       "      <td>0.417356</td>\n",
       "      <td>0.823484</td>\n",
       "      <td>-3.747787</td>\n",
       "      <td>0.234513</td>\n",
       "      <td>2.332180</td>\n",
       "      <td>0.410335</td>\n",
       "    </tr>\n",
       "    <tr>\n",
       "      <th>5</th>\n",
       "      <td>phon_R01_S01_6</td>\n",
       "      <td>120.552</td>\n",
       "      <td>131.162</td>\n",
       "      <td>113.787</td>\n",
       "      <td>0.00968</td>\n",
       "      <td>0.00008</td>\n",
       "      <td>0.00463</td>\n",
       "      <td>0.00750</td>\n",
       "      <td>0.01388</td>\n",
       "      <td>0.04701</td>\n",
       "      <td>...</td>\n",
       "      <td>0.06985</td>\n",
       "      <td>0.01222</td>\n",
       "      <td>21.378</td>\n",
       "      <td>1</td>\n",
       "      <td>0.415564</td>\n",
       "      <td>0.825069</td>\n",
       "      <td>-4.242867</td>\n",
       "      <td>0.299111</td>\n",
       "      <td>2.187560</td>\n",
       "      <td>0.357775</td>\n",
       "    </tr>\n",
       "    <tr>\n",
       "      <th>6</th>\n",
       "      <td>phon_R01_S02_1</td>\n",
       "      <td>120.267</td>\n",
       "      <td>137.244</td>\n",
       "      <td>114.820</td>\n",
       "      <td>0.00333</td>\n",
       "      <td>0.00003</td>\n",
       "      <td>0.00155</td>\n",
       "      <td>0.00202</td>\n",
       "      <td>0.00466</td>\n",
       "      <td>0.01608</td>\n",
       "      <td>...</td>\n",
       "      <td>0.02337</td>\n",
       "      <td>0.00607</td>\n",
       "      <td>24.886</td>\n",
       "      <td>1</td>\n",
       "      <td>0.596040</td>\n",
       "      <td>0.764112</td>\n",
       "      <td>-5.634322</td>\n",
       "      <td>0.257682</td>\n",
       "      <td>1.854785</td>\n",
       "      <td>0.211756</td>\n",
       "    </tr>\n",
       "    <tr>\n",
       "      <th>7</th>\n",
       "      <td>phon_R01_S02_2</td>\n",
       "      <td>107.332</td>\n",
       "      <td>113.840</td>\n",
       "      <td>104.315</td>\n",
       "      <td>0.00290</td>\n",
       "      <td>0.00003</td>\n",
       "      <td>0.00144</td>\n",
       "      <td>0.00182</td>\n",
       "      <td>0.00431</td>\n",
       "      <td>0.01567</td>\n",
       "      <td>...</td>\n",
       "      <td>0.02487</td>\n",
       "      <td>0.00344</td>\n",
       "      <td>26.892</td>\n",
       "      <td>1</td>\n",
       "      <td>0.637420</td>\n",
       "      <td>0.763262</td>\n",
       "      <td>-6.167603</td>\n",
       "      <td>0.183721</td>\n",
       "      <td>2.064693</td>\n",
       "      <td>0.163755</td>\n",
       "    </tr>\n",
       "    <tr>\n",
       "      <th>8</th>\n",
       "      <td>phon_R01_S02_3</td>\n",
       "      <td>95.730</td>\n",
       "      <td>132.068</td>\n",
       "      <td>91.754</td>\n",
       "      <td>0.00551</td>\n",
       "      <td>0.00006</td>\n",
       "      <td>0.00293</td>\n",
       "      <td>0.00332</td>\n",
       "      <td>0.00880</td>\n",
       "      <td>0.02093</td>\n",
       "      <td>...</td>\n",
       "      <td>0.03218</td>\n",
       "      <td>0.01070</td>\n",
       "      <td>21.812</td>\n",
       "      <td>1</td>\n",
       "      <td>0.615551</td>\n",
       "      <td>0.773587</td>\n",
       "      <td>-5.498678</td>\n",
       "      <td>0.327769</td>\n",
       "      <td>2.322511</td>\n",
       "      <td>0.231571</td>\n",
       "    </tr>\n",
       "    <tr>\n",
       "      <th>9</th>\n",
       "      <td>phon_R01_S02_4</td>\n",
       "      <td>95.056</td>\n",
       "      <td>120.103</td>\n",
       "      <td>91.226</td>\n",
       "      <td>0.00532</td>\n",
       "      <td>0.00006</td>\n",
       "      <td>0.00268</td>\n",
       "      <td>0.00332</td>\n",
       "      <td>0.00803</td>\n",
       "      <td>0.02838</td>\n",
       "      <td>...</td>\n",
       "      <td>0.04324</td>\n",
       "      <td>0.01022</td>\n",
       "      <td>21.862</td>\n",
       "      <td>1</td>\n",
       "      <td>0.547037</td>\n",
       "      <td>0.798463</td>\n",
       "      <td>-5.011879</td>\n",
       "      <td>0.325996</td>\n",
       "      <td>2.432792</td>\n",
       "      <td>0.271362</td>\n",
       "    </tr>\n",
       "  </tbody>\n",
       "</table>\n",
       "<p>10 rows × 24 columns</p>\n",
       "</div>"
      ],
      "text/plain": [
       "             name  MDVP:Fo(Hz)  MDVP:Fhi(Hz)  MDVP:Flo(Hz)  MDVP:Jitter(%)  \\\n",
       "0  phon_R01_S01_1      119.992       157.302        74.997         0.00784   \n",
       "1  phon_R01_S01_2      122.400       148.650       113.819         0.00968   \n",
       "2  phon_R01_S01_3      116.682       131.111       111.555         0.01050   \n",
       "3  phon_R01_S01_4      116.676       137.871       111.366         0.00997   \n",
       "4  phon_R01_S01_5      116.014       141.781       110.655         0.01284   \n",
       "5  phon_R01_S01_6      120.552       131.162       113.787         0.00968   \n",
       "6  phon_R01_S02_1      120.267       137.244       114.820         0.00333   \n",
       "7  phon_R01_S02_2      107.332       113.840       104.315         0.00290   \n",
       "8  phon_R01_S02_3       95.730       132.068        91.754         0.00551   \n",
       "9  phon_R01_S02_4       95.056       120.103        91.226         0.00532   \n",
       "\n",
       "   MDVP:Jitter(Abs)  MDVP:RAP  MDVP:PPQ  Jitter:DDP  MDVP:Shimmer  ...  \\\n",
       "0           0.00007   0.00370   0.00554     0.01109       0.04374  ...   \n",
       "1           0.00008   0.00465   0.00696     0.01394       0.06134  ...   \n",
       "2           0.00009   0.00544   0.00781     0.01633       0.05233  ...   \n",
       "3           0.00009   0.00502   0.00698     0.01505       0.05492  ...   \n",
       "4           0.00011   0.00655   0.00908     0.01966       0.06425  ...   \n",
       "5           0.00008   0.00463   0.00750     0.01388       0.04701  ...   \n",
       "6           0.00003   0.00155   0.00202     0.00466       0.01608  ...   \n",
       "7           0.00003   0.00144   0.00182     0.00431       0.01567  ...   \n",
       "8           0.00006   0.00293   0.00332     0.00880       0.02093  ...   \n",
       "9           0.00006   0.00268   0.00332     0.00803       0.02838  ...   \n",
       "\n",
       "   Shimmer:DDA      NHR     HNR  status      RPDE       DFA   spread1  \\\n",
       "0      0.06545  0.02211  21.033       1  0.414783  0.815285 -4.813031   \n",
       "1      0.09403  0.01929  19.085       1  0.458359  0.819521 -4.075192   \n",
       "2      0.08270  0.01309  20.651       1  0.429895  0.825288 -4.443179   \n",
       "3      0.08771  0.01353  20.644       1  0.434969  0.819235 -4.117501   \n",
       "4      0.10470  0.01767  19.649       1  0.417356  0.823484 -3.747787   \n",
       "5      0.06985  0.01222  21.378       1  0.415564  0.825069 -4.242867   \n",
       "6      0.02337  0.00607  24.886       1  0.596040  0.764112 -5.634322   \n",
       "7      0.02487  0.00344  26.892       1  0.637420  0.763262 -6.167603   \n",
       "8      0.03218  0.01070  21.812       1  0.615551  0.773587 -5.498678   \n",
       "9      0.04324  0.01022  21.862       1  0.547037  0.798463 -5.011879   \n",
       "\n",
       "    spread2        D2       PPE  \n",
       "0  0.266482  2.301442  0.284654  \n",
       "1  0.335590  2.486855  0.368674  \n",
       "2  0.311173  2.342259  0.332634  \n",
       "3  0.334147  2.405554  0.368975  \n",
       "4  0.234513  2.332180  0.410335  \n",
       "5  0.299111  2.187560  0.357775  \n",
       "6  0.257682  1.854785  0.211756  \n",
       "7  0.183721  2.064693  0.163755  \n",
       "8  0.327769  2.322511  0.231571  \n",
       "9  0.325996  2.432792  0.271362  \n",
       "\n",
       "[10 rows x 24 columns]"
      ]
     },
     "execution_count": 2,
     "metadata": {},
     "output_type": "execute_result"
    }
   ],
   "source": [
    "parkinson_data = pd.read_csv(\"../input/parkinson-csv/parkinsons.csv\")\n",
    "parkinson_data.head(10) #printing first 10 rows of dataframe"
   ]
  },
  {
   "cell_type": "code",
   "execution_count": 3,
   "id": "a33f835e",
   "metadata": {
    "execution": {
     "iopub.execute_input": "2021-09-12T08:21:39.774757Z",
     "iopub.status.busy": "2021-09-12T08:21:39.774034Z",
     "iopub.status.idle": "2021-09-12T08:21:39.777952Z",
     "shell.execute_reply": "2021-09-12T08:21:39.777107Z",
     "shell.execute_reply.started": "2021-09-12T07:23:40.820478Z"
    },
    "papermill": {
     "duration": 0.066818,
     "end_time": "2021-09-12T08:21:39.778094",
     "exception": false,
     "start_time": "2021-09-12T08:21:39.711276",
     "status": "completed"
    },
    "tags": []
   },
   "outputs": [
    {
     "name": "stdout",
     "output_type": "stream",
     "text": [
      "<class 'pandas.core.frame.DataFrame'>\n",
      "RangeIndex: 195 entries, 0 to 194\n",
      "Data columns (total 24 columns):\n",
      " #   Column            Non-Null Count  Dtype  \n",
      "---  ------            --------------  -----  \n",
      " 0   name              195 non-null    object \n",
      " 1   MDVP:Fo(Hz)       195 non-null    float64\n",
      " 2   MDVP:Fhi(Hz)      195 non-null    float64\n",
      " 3   MDVP:Flo(Hz)      195 non-null    float64\n",
      " 4   MDVP:Jitter(%)    195 non-null    float64\n",
      " 5   MDVP:Jitter(Abs)  195 non-null    float64\n",
      " 6   MDVP:RAP          195 non-null    float64\n",
      " 7   MDVP:PPQ          195 non-null    float64\n",
      " 8   Jitter:DDP        195 non-null    float64\n",
      " 9   MDVP:Shimmer      195 non-null    float64\n",
      " 10  MDVP:Shimmer(dB)  195 non-null    float64\n",
      " 11  Shimmer:APQ3      195 non-null    float64\n",
      " 12  Shimmer:APQ5      195 non-null    float64\n",
      " 13  MDVP:APQ          195 non-null    float64\n",
      " 14  Shimmer:DDA       195 non-null    float64\n",
      " 15  NHR               195 non-null    float64\n",
      " 16  HNR               195 non-null    float64\n",
      " 17  status            195 non-null    int64  \n",
      " 18  RPDE              195 non-null    float64\n",
      " 19  DFA               195 non-null    float64\n",
      " 20  spread1           195 non-null    float64\n",
      " 21  spread2           195 non-null    float64\n",
      " 22  D2                195 non-null    float64\n",
      " 23  PPE               195 non-null    float64\n",
      "dtypes: float64(22), int64(1), object(1)\n",
      "memory usage: 36.7+ KB\n"
     ]
    }
   ],
   "source": [
    "parkinson_data.info() #getting more info about the dataset"
   ]
  },
  {
   "cell_type": "code",
   "execution_count": 4,
   "id": "7b2bdc94",
   "metadata": {
    "execution": {
     "iopub.execute_input": "2021-09-12T08:21:39.869065Z",
     "iopub.status.busy": "2021-09-12T08:21:39.868378Z",
     "iopub.status.idle": "2021-09-12T08:21:39.872539Z",
     "shell.execute_reply": "2021-09-12T08:21:39.871914Z",
     "shell.execute_reply.started": "2021-09-12T07:22:31.687117Z"
    },
    "papermill": {
     "duration": 0.051859,
     "end_time": "2021-09-12T08:21:39.872677",
     "exception": false,
     "start_time": "2021-09-12T08:21:39.820818",
     "status": "completed"
    },
    "tags": []
   },
   "outputs": [
    {
     "data": {
      "text/plain": [
       "(195, 24)"
      ]
     },
     "execution_count": 4,
     "metadata": {},
     "output_type": "execute_result"
    }
   ],
   "source": [
    "parkinson_data.shape #rows and columns in dataset"
   ]
  },
  {
   "cell_type": "markdown",
   "id": "1b89e901",
   "metadata": {
    "papermill": {
     "duration": 0.042115,
     "end_time": "2021-09-12T08:21:39.956759",
     "exception": false,
     "start_time": "2021-09-12T08:21:39.914644",
     "status": "completed"
    },
    "tags": []
   },
   "source": [
    "Rows : 195; Columns : 24"
   ]
  },
  {
   "cell_type": "code",
   "execution_count": 5,
   "id": "62212864",
   "metadata": {
    "execution": {
     "iopub.execute_input": "2021-09-12T08:21:40.054251Z",
     "iopub.status.busy": "2021-09-12T08:21:40.050227Z",
     "iopub.status.idle": "2021-09-12T08:21:40.117254Z",
     "shell.execute_reply": "2021-09-12T08:21:40.116725Z",
     "shell.execute_reply.started": "2021-09-12T07:23:24.207714Z"
    },
    "papermill": {
     "duration": 0.117659,
     "end_time": "2021-09-12T08:21:40.117404",
     "exception": false,
     "start_time": "2021-09-12T08:21:39.999745",
     "status": "completed"
    },
    "tags": []
   },
   "outputs": [
    {
     "data": {
      "text/html": [
       "<div>\n",
       "<style scoped>\n",
       "    .dataframe tbody tr th:only-of-type {\n",
       "        vertical-align: middle;\n",
       "    }\n",
       "\n",
       "    .dataframe tbody tr th {\n",
       "        vertical-align: top;\n",
       "    }\n",
       "\n",
       "    .dataframe thead th {\n",
       "        text-align: right;\n",
       "    }\n",
       "</style>\n",
       "<table border=\"1\" class=\"dataframe\">\n",
       "  <thead>\n",
       "    <tr style=\"text-align: right;\">\n",
       "      <th></th>\n",
       "      <th>MDVP:Fo(Hz)</th>\n",
       "      <th>MDVP:Fhi(Hz)</th>\n",
       "      <th>MDVP:Flo(Hz)</th>\n",
       "      <th>MDVP:Jitter(%)</th>\n",
       "      <th>MDVP:Jitter(Abs)</th>\n",
       "      <th>MDVP:RAP</th>\n",
       "      <th>MDVP:PPQ</th>\n",
       "      <th>Jitter:DDP</th>\n",
       "      <th>MDVP:Shimmer</th>\n",
       "      <th>MDVP:Shimmer(dB)</th>\n",
       "      <th>...</th>\n",
       "      <th>Shimmer:DDA</th>\n",
       "      <th>NHR</th>\n",
       "      <th>HNR</th>\n",
       "      <th>status</th>\n",
       "      <th>RPDE</th>\n",
       "      <th>DFA</th>\n",
       "      <th>spread1</th>\n",
       "      <th>spread2</th>\n",
       "      <th>D2</th>\n",
       "      <th>PPE</th>\n",
       "    </tr>\n",
       "  </thead>\n",
       "  <tbody>\n",
       "    <tr>\n",
       "      <th>count</th>\n",
       "      <td>195.000000</td>\n",
       "      <td>195.000000</td>\n",
       "      <td>195.000000</td>\n",
       "      <td>195.000000</td>\n",
       "      <td>195.000000</td>\n",
       "      <td>195.000000</td>\n",
       "      <td>195.000000</td>\n",
       "      <td>195.000000</td>\n",
       "      <td>195.000000</td>\n",
       "      <td>195.000000</td>\n",
       "      <td>...</td>\n",
       "      <td>195.000000</td>\n",
       "      <td>195.000000</td>\n",
       "      <td>195.000000</td>\n",
       "      <td>195.000000</td>\n",
       "      <td>195.000000</td>\n",
       "      <td>195.000000</td>\n",
       "      <td>195.000000</td>\n",
       "      <td>195.000000</td>\n",
       "      <td>195.000000</td>\n",
       "      <td>195.000000</td>\n",
       "    </tr>\n",
       "    <tr>\n",
       "      <th>mean</th>\n",
       "      <td>154.228641</td>\n",
       "      <td>197.104918</td>\n",
       "      <td>116.324631</td>\n",
       "      <td>0.006220</td>\n",
       "      <td>0.000044</td>\n",
       "      <td>0.003306</td>\n",
       "      <td>0.003446</td>\n",
       "      <td>0.009920</td>\n",
       "      <td>0.029709</td>\n",
       "      <td>0.282251</td>\n",
       "      <td>...</td>\n",
       "      <td>0.046993</td>\n",
       "      <td>0.024847</td>\n",
       "      <td>21.885974</td>\n",
       "      <td>0.753846</td>\n",
       "      <td>0.498536</td>\n",
       "      <td>0.718099</td>\n",
       "      <td>-5.684397</td>\n",
       "      <td>0.226510</td>\n",
       "      <td>2.381826</td>\n",
       "      <td>0.206552</td>\n",
       "    </tr>\n",
       "    <tr>\n",
       "      <th>std</th>\n",
       "      <td>41.390065</td>\n",
       "      <td>91.491548</td>\n",
       "      <td>43.521413</td>\n",
       "      <td>0.004848</td>\n",
       "      <td>0.000035</td>\n",
       "      <td>0.002968</td>\n",
       "      <td>0.002759</td>\n",
       "      <td>0.008903</td>\n",
       "      <td>0.018857</td>\n",
       "      <td>0.194877</td>\n",
       "      <td>...</td>\n",
       "      <td>0.030459</td>\n",
       "      <td>0.040418</td>\n",
       "      <td>4.425764</td>\n",
       "      <td>0.431878</td>\n",
       "      <td>0.103942</td>\n",
       "      <td>0.055336</td>\n",
       "      <td>1.090208</td>\n",
       "      <td>0.083406</td>\n",
       "      <td>0.382799</td>\n",
       "      <td>0.090119</td>\n",
       "    </tr>\n",
       "    <tr>\n",
       "      <th>min</th>\n",
       "      <td>88.333000</td>\n",
       "      <td>102.145000</td>\n",
       "      <td>65.476000</td>\n",
       "      <td>0.001680</td>\n",
       "      <td>0.000007</td>\n",
       "      <td>0.000680</td>\n",
       "      <td>0.000920</td>\n",
       "      <td>0.002040</td>\n",
       "      <td>0.009540</td>\n",
       "      <td>0.085000</td>\n",
       "      <td>...</td>\n",
       "      <td>0.013640</td>\n",
       "      <td>0.000650</td>\n",
       "      <td>8.441000</td>\n",
       "      <td>0.000000</td>\n",
       "      <td>0.256570</td>\n",
       "      <td>0.574282</td>\n",
       "      <td>-7.964984</td>\n",
       "      <td>0.006274</td>\n",
       "      <td>1.423287</td>\n",
       "      <td>0.044539</td>\n",
       "    </tr>\n",
       "    <tr>\n",
       "      <th>25%</th>\n",
       "      <td>117.572000</td>\n",
       "      <td>134.862500</td>\n",
       "      <td>84.291000</td>\n",
       "      <td>0.003460</td>\n",
       "      <td>0.000020</td>\n",
       "      <td>0.001660</td>\n",
       "      <td>0.001860</td>\n",
       "      <td>0.004985</td>\n",
       "      <td>0.016505</td>\n",
       "      <td>0.148500</td>\n",
       "      <td>...</td>\n",
       "      <td>0.024735</td>\n",
       "      <td>0.005925</td>\n",
       "      <td>19.198000</td>\n",
       "      <td>1.000000</td>\n",
       "      <td>0.421306</td>\n",
       "      <td>0.674758</td>\n",
       "      <td>-6.450096</td>\n",
       "      <td>0.174351</td>\n",
       "      <td>2.099125</td>\n",
       "      <td>0.137451</td>\n",
       "    </tr>\n",
       "    <tr>\n",
       "      <th>50%</th>\n",
       "      <td>148.790000</td>\n",
       "      <td>175.829000</td>\n",
       "      <td>104.315000</td>\n",
       "      <td>0.004940</td>\n",
       "      <td>0.000030</td>\n",
       "      <td>0.002500</td>\n",
       "      <td>0.002690</td>\n",
       "      <td>0.007490</td>\n",
       "      <td>0.022970</td>\n",
       "      <td>0.221000</td>\n",
       "      <td>...</td>\n",
       "      <td>0.038360</td>\n",
       "      <td>0.011660</td>\n",
       "      <td>22.085000</td>\n",
       "      <td>1.000000</td>\n",
       "      <td>0.495954</td>\n",
       "      <td>0.722254</td>\n",
       "      <td>-5.720868</td>\n",
       "      <td>0.218885</td>\n",
       "      <td>2.361532</td>\n",
       "      <td>0.194052</td>\n",
       "    </tr>\n",
       "    <tr>\n",
       "      <th>75%</th>\n",
       "      <td>182.769000</td>\n",
       "      <td>224.205500</td>\n",
       "      <td>140.018500</td>\n",
       "      <td>0.007365</td>\n",
       "      <td>0.000060</td>\n",
       "      <td>0.003835</td>\n",
       "      <td>0.003955</td>\n",
       "      <td>0.011505</td>\n",
       "      <td>0.037885</td>\n",
       "      <td>0.350000</td>\n",
       "      <td>...</td>\n",
       "      <td>0.060795</td>\n",
       "      <td>0.025640</td>\n",
       "      <td>25.075500</td>\n",
       "      <td>1.000000</td>\n",
       "      <td>0.587562</td>\n",
       "      <td>0.761881</td>\n",
       "      <td>-5.046192</td>\n",
       "      <td>0.279234</td>\n",
       "      <td>2.636456</td>\n",
       "      <td>0.252980</td>\n",
       "    </tr>\n",
       "    <tr>\n",
       "      <th>max</th>\n",
       "      <td>260.105000</td>\n",
       "      <td>592.030000</td>\n",
       "      <td>239.170000</td>\n",
       "      <td>0.033160</td>\n",
       "      <td>0.000260</td>\n",
       "      <td>0.021440</td>\n",
       "      <td>0.019580</td>\n",
       "      <td>0.064330</td>\n",
       "      <td>0.119080</td>\n",
       "      <td>1.302000</td>\n",
       "      <td>...</td>\n",
       "      <td>0.169420</td>\n",
       "      <td>0.314820</td>\n",
       "      <td>33.047000</td>\n",
       "      <td>1.000000</td>\n",
       "      <td>0.685151</td>\n",
       "      <td>0.825288</td>\n",
       "      <td>-2.434031</td>\n",
       "      <td>0.450493</td>\n",
       "      <td>3.671155</td>\n",
       "      <td>0.527367</td>\n",
       "    </tr>\n",
       "  </tbody>\n",
       "</table>\n",
       "<p>8 rows × 23 columns</p>\n",
       "</div>"
      ],
      "text/plain": [
       "       MDVP:Fo(Hz)  MDVP:Fhi(Hz)  MDVP:Flo(Hz)  MDVP:Jitter(%)  \\\n",
       "count   195.000000    195.000000    195.000000      195.000000   \n",
       "mean    154.228641    197.104918    116.324631        0.006220   \n",
       "std      41.390065     91.491548     43.521413        0.004848   \n",
       "min      88.333000    102.145000     65.476000        0.001680   \n",
       "25%     117.572000    134.862500     84.291000        0.003460   \n",
       "50%     148.790000    175.829000    104.315000        0.004940   \n",
       "75%     182.769000    224.205500    140.018500        0.007365   \n",
       "max     260.105000    592.030000    239.170000        0.033160   \n",
       "\n",
       "       MDVP:Jitter(Abs)    MDVP:RAP    MDVP:PPQ  Jitter:DDP  MDVP:Shimmer  \\\n",
       "count        195.000000  195.000000  195.000000  195.000000    195.000000   \n",
       "mean           0.000044    0.003306    0.003446    0.009920      0.029709   \n",
       "std            0.000035    0.002968    0.002759    0.008903      0.018857   \n",
       "min            0.000007    0.000680    0.000920    0.002040      0.009540   \n",
       "25%            0.000020    0.001660    0.001860    0.004985      0.016505   \n",
       "50%            0.000030    0.002500    0.002690    0.007490      0.022970   \n",
       "75%            0.000060    0.003835    0.003955    0.011505      0.037885   \n",
       "max            0.000260    0.021440    0.019580    0.064330      0.119080   \n",
       "\n",
       "       MDVP:Shimmer(dB)  ...  Shimmer:DDA         NHR         HNR      status  \\\n",
       "count        195.000000  ...   195.000000  195.000000  195.000000  195.000000   \n",
       "mean           0.282251  ...     0.046993    0.024847   21.885974    0.753846   \n",
       "std            0.194877  ...     0.030459    0.040418    4.425764    0.431878   \n",
       "min            0.085000  ...     0.013640    0.000650    8.441000    0.000000   \n",
       "25%            0.148500  ...     0.024735    0.005925   19.198000    1.000000   \n",
       "50%            0.221000  ...     0.038360    0.011660   22.085000    1.000000   \n",
       "75%            0.350000  ...     0.060795    0.025640   25.075500    1.000000   \n",
       "max            1.302000  ...     0.169420    0.314820   33.047000    1.000000   \n",
       "\n",
       "             RPDE         DFA     spread1     spread2          D2         PPE  \n",
       "count  195.000000  195.000000  195.000000  195.000000  195.000000  195.000000  \n",
       "mean     0.498536    0.718099   -5.684397    0.226510    2.381826    0.206552  \n",
       "std      0.103942    0.055336    1.090208    0.083406    0.382799    0.090119  \n",
       "min      0.256570    0.574282   -7.964984    0.006274    1.423287    0.044539  \n",
       "25%      0.421306    0.674758   -6.450096    0.174351    2.099125    0.137451  \n",
       "50%      0.495954    0.722254   -5.720868    0.218885    2.361532    0.194052  \n",
       "75%      0.587562    0.761881   -5.046192    0.279234    2.636456    0.252980  \n",
       "max      0.685151    0.825288   -2.434031    0.450493    3.671155    0.527367  \n",
       "\n",
       "[8 rows x 23 columns]"
      ]
     },
     "execution_count": 5,
     "metadata": {},
     "output_type": "execute_result"
    }
   ],
   "source": [
    "parkinson_data.describe() #statistical data about the dataset"
   ]
  },
  {
   "cell_type": "code",
   "execution_count": 6,
   "id": "bbd7820b",
   "metadata": {
    "execution": {
     "iopub.execute_input": "2021-09-12T08:21:40.206698Z",
     "iopub.status.busy": "2021-09-12T08:21:40.206007Z",
     "iopub.status.idle": "2021-09-12T08:21:40.212680Z",
     "shell.execute_reply": "2021-09-12T08:21:40.213166Z",
     "shell.execute_reply.started": "2021-09-12T07:23:29.975208Z"
    },
    "papermill": {
     "duration": 0.05339,
     "end_time": "2021-09-12T08:21:40.213335",
     "exception": false,
     "start_time": "2021-09-12T08:21:40.159945",
     "status": "completed"
    },
    "tags": []
   },
   "outputs": [
    {
     "data": {
      "text/plain": [
       "name                0\n",
       "MDVP:Fo(Hz)         0\n",
       "MDVP:Fhi(Hz)        0\n",
       "MDVP:Flo(Hz)        0\n",
       "MDVP:Jitter(%)      0\n",
       "MDVP:Jitter(Abs)    0\n",
       "MDVP:RAP            0\n",
       "MDVP:PPQ            0\n",
       "Jitter:DDP          0\n",
       "MDVP:Shimmer        0\n",
       "MDVP:Shimmer(dB)    0\n",
       "Shimmer:APQ3        0\n",
       "Shimmer:APQ5        0\n",
       "MDVP:APQ            0\n",
       "Shimmer:DDA         0\n",
       "NHR                 0\n",
       "HNR                 0\n",
       "status              0\n",
       "RPDE                0\n",
       "DFA                 0\n",
       "spread1             0\n",
       "spread2             0\n",
       "D2                  0\n",
       "PPE                 0\n",
       "dtype: int64"
      ]
     },
     "execution_count": 6,
     "metadata": {},
     "output_type": "execute_result"
    }
   ],
   "source": [
    "parkinson_data.isnull().sum() #checking for missing values"
   ]
  },
  {
   "cell_type": "code",
   "execution_count": 7,
   "id": "0d980edc",
   "metadata": {
    "execution": {
     "iopub.execute_input": "2021-09-12T08:21:40.323131Z",
     "iopub.status.busy": "2021-09-12T08:21:40.322417Z",
     "iopub.status.idle": "2021-09-12T08:21:40.372761Z",
     "shell.execute_reply": "2021-09-12T08:21:40.372194Z",
     "shell.execute_reply.started": "2021-09-12T07:23:48.697577Z"
    },
    "papermill": {
     "duration": 0.11235,
     "end_time": "2021-09-12T08:21:40.372902",
     "exception": false,
     "start_time": "2021-09-12T08:21:40.260552",
     "status": "completed"
    },
    "tags": []
   },
   "outputs": [
    {
     "data": {
      "text/html": [
       "<div>\n",
       "<style scoped>\n",
       "    .dataframe tbody tr th:only-of-type {\n",
       "        vertical-align: middle;\n",
       "    }\n",
       "\n",
       "    .dataframe tbody tr th {\n",
       "        vertical-align: top;\n",
       "    }\n",
       "\n",
       "    .dataframe thead th {\n",
       "        text-align: right;\n",
       "    }\n",
       "</style>\n",
       "<table border=\"1\" class=\"dataframe\">\n",
       "  <thead>\n",
       "    <tr style=\"text-align: right;\">\n",
       "      <th></th>\n",
       "      <th>MDVP:Fo(Hz)</th>\n",
       "      <th>MDVP:Fhi(Hz)</th>\n",
       "      <th>MDVP:Flo(Hz)</th>\n",
       "      <th>MDVP:Jitter(%)</th>\n",
       "      <th>MDVP:Jitter(Abs)</th>\n",
       "      <th>MDVP:RAP</th>\n",
       "      <th>MDVP:PPQ</th>\n",
       "      <th>Jitter:DDP</th>\n",
       "      <th>MDVP:Shimmer</th>\n",
       "      <th>MDVP:Shimmer(dB)</th>\n",
       "      <th>...</th>\n",
       "      <th>Shimmer:DDA</th>\n",
       "      <th>NHR</th>\n",
       "      <th>HNR</th>\n",
       "      <th>status</th>\n",
       "      <th>RPDE</th>\n",
       "      <th>DFA</th>\n",
       "      <th>spread1</th>\n",
       "      <th>spread2</th>\n",
       "      <th>D2</th>\n",
       "      <th>PPE</th>\n",
       "    </tr>\n",
       "  </thead>\n",
       "  <tbody>\n",
       "    <tr>\n",
       "      <th>MDVP:Fo(Hz)</th>\n",
       "      <td>1.000000</td>\n",
       "      <td>0.400985</td>\n",
       "      <td>0.596546</td>\n",
       "      <td>-0.118003</td>\n",
       "      <td>-0.382027</td>\n",
       "      <td>-0.076194</td>\n",
       "      <td>-0.112165</td>\n",
       "      <td>-0.076213</td>\n",
       "      <td>-0.098374</td>\n",
       "      <td>-0.073742</td>\n",
       "      <td>...</td>\n",
       "      <td>-0.094732</td>\n",
       "      <td>-0.021981</td>\n",
       "      <td>0.059144</td>\n",
       "      <td>-0.383535</td>\n",
       "      <td>-0.383894</td>\n",
       "      <td>-0.446013</td>\n",
       "      <td>-0.413738</td>\n",
       "      <td>-0.249450</td>\n",
       "      <td>0.177980</td>\n",
       "      <td>-0.372356</td>\n",
       "    </tr>\n",
       "    <tr>\n",
       "      <th>MDVP:Fhi(Hz)</th>\n",
       "      <td>0.400985</td>\n",
       "      <td>1.000000</td>\n",
       "      <td>0.084951</td>\n",
       "      <td>0.102086</td>\n",
       "      <td>-0.029198</td>\n",
       "      <td>0.097177</td>\n",
       "      <td>0.091126</td>\n",
       "      <td>0.097150</td>\n",
       "      <td>0.002281</td>\n",
       "      <td>0.043465</td>\n",
       "      <td>...</td>\n",
       "      <td>-0.003733</td>\n",
       "      <td>0.163766</td>\n",
       "      <td>-0.024893</td>\n",
       "      <td>-0.166136</td>\n",
       "      <td>-0.112404</td>\n",
       "      <td>-0.343097</td>\n",
       "      <td>-0.076658</td>\n",
       "      <td>-0.002954</td>\n",
       "      <td>0.176323</td>\n",
       "      <td>-0.069543</td>\n",
       "    </tr>\n",
       "    <tr>\n",
       "      <th>MDVP:Flo(Hz)</th>\n",
       "      <td>0.596546</td>\n",
       "      <td>0.084951</td>\n",
       "      <td>1.000000</td>\n",
       "      <td>-0.139919</td>\n",
       "      <td>-0.277815</td>\n",
       "      <td>-0.100519</td>\n",
       "      <td>-0.095828</td>\n",
       "      <td>-0.100488</td>\n",
       "      <td>-0.144543</td>\n",
       "      <td>-0.119089</td>\n",
       "      <td>...</td>\n",
       "      <td>-0.150737</td>\n",
       "      <td>-0.108670</td>\n",
       "      <td>0.210851</td>\n",
       "      <td>-0.380200</td>\n",
       "      <td>-0.400143</td>\n",
       "      <td>-0.050406</td>\n",
       "      <td>-0.394857</td>\n",
       "      <td>-0.243829</td>\n",
       "      <td>-0.100629</td>\n",
       "      <td>-0.340071</td>\n",
       "    </tr>\n",
       "    <tr>\n",
       "      <th>MDVP:Jitter(%)</th>\n",
       "      <td>-0.118003</td>\n",
       "      <td>0.102086</td>\n",
       "      <td>-0.139919</td>\n",
       "      <td>1.000000</td>\n",
       "      <td>0.935714</td>\n",
       "      <td>0.990276</td>\n",
       "      <td>0.974256</td>\n",
       "      <td>0.990276</td>\n",
       "      <td>0.769063</td>\n",
       "      <td>0.804289</td>\n",
       "      <td>...</td>\n",
       "      <td>0.746635</td>\n",
       "      <td>0.906959</td>\n",
       "      <td>-0.728165</td>\n",
       "      <td>0.278220</td>\n",
       "      <td>0.360673</td>\n",
       "      <td>0.098572</td>\n",
       "      <td>0.693577</td>\n",
       "      <td>0.385123</td>\n",
       "      <td>0.433434</td>\n",
       "      <td>0.721543</td>\n",
       "    </tr>\n",
       "    <tr>\n",
       "      <th>MDVP:Jitter(Abs)</th>\n",
       "      <td>-0.382027</td>\n",
       "      <td>-0.029198</td>\n",
       "      <td>-0.277815</td>\n",
       "      <td>0.935714</td>\n",
       "      <td>1.000000</td>\n",
       "      <td>0.922911</td>\n",
       "      <td>0.897778</td>\n",
       "      <td>0.922913</td>\n",
       "      <td>0.703322</td>\n",
       "      <td>0.716601</td>\n",
       "      <td>...</td>\n",
       "      <td>0.697170</td>\n",
       "      <td>0.834972</td>\n",
       "      <td>-0.656810</td>\n",
       "      <td>0.338653</td>\n",
       "      <td>0.441839</td>\n",
       "      <td>0.175036</td>\n",
       "      <td>0.735779</td>\n",
       "      <td>0.388543</td>\n",
       "      <td>0.310694</td>\n",
       "      <td>0.748162</td>\n",
       "    </tr>\n",
       "    <tr>\n",
       "      <th>MDVP:RAP</th>\n",
       "      <td>-0.076194</td>\n",
       "      <td>0.097177</td>\n",
       "      <td>-0.100519</td>\n",
       "      <td>0.990276</td>\n",
       "      <td>0.922911</td>\n",
       "      <td>1.000000</td>\n",
       "      <td>0.957317</td>\n",
       "      <td>1.000000</td>\n",
       "      <td>0.759581</td>\n",
       "      <td>0.790652</td>\n",
       "      <td>...</td>\n",
       "      <td>0.744919</td>\n",
       "      <td>0.919521</td>\n",
       "      <td>-0.721543</td>\n",
       "      <td>0.266668</td>\n",
       "      <td>0.342140</td>\n",
       "      <td>0.064083</td>\n",
       "      <td>0.648328</td>\n",
       "      <td>0.324407</td>\n",
       "      <td>0.426605</td>\n",
       "      <td>0.670999</td>\n",
       "    </tr>\n",
       "    <tr>\n",
       "      <th>MDVP:PPQ</th>\n",
       "      <td>-0.112165</td>\n",
       "      <td>0.091126</td>\n",
       "      <td>-0.095828</td>\n",
       "      <td>0.974256</td>\n",
       "      <td>0.897778</td>\n",
       "      <td>0.957317</td>\n",
       "      <td>1.000000</td>\n",
       "      <td>0.957319</td>\n",
       "      <td>0.797826</td>\n",
       "      <td>0.839239</td>\n",
       "      <td>...</td>\n",
       "      <td>0.763592</td>\n",
       "      <td>0.844604</td>\n",
       "      <td>-0.731510</td>\n",
       "      <td>0.288698</td>\n",
       "      <td>0.333274</td>\n",
       "      <td>0.196301</td>\n",
       "      <td>0.716489</td>\n",
       "      <td>0.407605</td>\n",
       "      <td>0.412524</td>\n",
       "      <td>0.769647</td>\n",
       "    </tr>\n",
       "    <tr>\n",
       "      <th>Jitter:DDP</th>\n",
       "      <td>-0.076213</td>\n",
       "      <td>0.097150</td>\n",
       "      <td>-0.100488</td>\n",
       "      <td>0.990276</td>\n",
       "      <td>0.922913</td>\n",
       "      <td>1.000000</td>\n",
       "      <td>0.957319</td>\n",
       "      <td>1.000000</td>\n",
       "      <td>0.759555</td>\n",
       "      <td>0.790621</td>\n",
       "      <td>...</td>\n",
       "      <td>0.744901</td>\n",
       "      <td>0.919548</td>\n",
       "      <td>-0.721494</td>\n",
       "      <td>0.266646</td>\n",
       "      <td>0.342079</td>\n",
       "      <td>0.064026</td>\n",
       "      <td>0.648328</td>\n",
       "      <td>0.324377</td>\n",
       "      <td>0.426556</td>\n",
       "      <td>0.671005</td>\n",
       "    </tr>\n",
       "    <tr>\n",
       "      <th>MDVP:Shimmer</th>\n",
       "      <td>-0.098374</td>\n",
       "      <td>0.002281</td>\n",
       "      <td>-0.144543</td>\n",
       "      <td>0.769063</td>\n",
       "      <td>0.703322</td>\n",
       "      <td>0.759581</td>\n",
       "      <td>0.797826</td>\n",
       "      <td>0.759555</td>\n",
       "      <td>1.000000</td>\n",
       "      <td>0.987258</td>\n",
       "      <td>...</td>\n",
       "      <td>0.987626</td>\n",
       "      <td>0.722194</td>\n",
       "      <td>-0.835271</td>\n",
       "      <td>0.367430</td>\n",
       "      <td>0.447424</td>\n",
       "      <td>0.159954</td>\n",
       "      <td>0.654734</td>\n",
       "      <td>0.452025</td>\n",
       "      <td>0.507088</td>\n",
       "      <td>0.693771</td>\n",
       "    </tr>\n",
       "    <tr>\n",
       "      <th>MDVP:Shimmer(dB)</th>\n",
       "      <td>-0.073742</td>\n",
       "      <td>0.043465</td>\n",
       "      <td>-0.119089</td>\n",
       "      <td>0.804289</td>\n",
       "      <td>0.716601</td>\n",
       "      <td>0.790652</td>\n",
       "      <td>0.839239</td>\n",
       "      <td>0.790621</td>\n",
       "      <td>0.987258</td>\n",
       "      <td>1.000000</td>\n",
       "      <td>...</td>\n",
       "      <td>0.963202</td>\n",
       "      <td>0.744477</td>\n",
       "      <td>-0.827805</td>\n",
       "      <td>0.350697</td>\n",
       "      <td>0.410684</td>\n",
       "      <td>0.165157</td>\n",
       "      <td>0.652547</td>\n",
       "      <td>0.454314</td>\n",
       "      <td>0.512233</td>\n",
       "      <td>0.695058</td>\n",
       "    </tr>\n",
       "    <tr>\n",
       "      <th>Shimmer:APQ3</th>\n",
       "      <td>-0.094717</td>\n",
       "      <td>-0.003743</td>\n",
       "      <td>-0.150747</td>\n",
       "      <td>0.746625</td>\n",
       "      <td>0.697153</td>\n",
       "      <td>0.744912</td>\n",
       "      <td>0.763580</td>\n",
       "      <td>0.744894</td>\n",
       "      <td>0.987625</td>\n",
       "      <td>0.963198</td>\n",
       "      <td>...</td>\n",
       "      <td>1.000000</td>\n",
       "      <td>0.716207</td>\n",
       "      <td>-0.827123</td>\n",
       "      <td>0.347617</td>\n",
       "      <td>0.435242</td>\n",
       "      <td>0.151124</td>\n",
       "      <td>0.610967</td>\n",
       "      <td>0.402243</td>\n",
       "      <td>0.467265</td>\n",
       "      <td>0.645377</td>\n",
       "    </tr>\n",
       "    <tr>\n",
       "      <th>Shimmer:APQ5</th>\n",
       "      <td>-0.070682</td>\n",
       "      <td>-0.009997</td>\n",
       "      <td>-0.101095</td>\n",
       "      <td>0.725561</td>\n",
       "      <td>0.648961</td>\n",
       "      <td>0.709927</td>\n",
       "      <td>0.786780</td>\n",
       "      <td>0.709907</td>\n",
       "      <td>0.982835</td>\n",
       "      <td>0.973751</td>\n",
       "      <td>...</td>\n",
       "      <td>0.960072</td>\n",
       "      <td>0.658080</td>\n",
       "      <td>-0.813753</td>\n",
       "      <td>0.351148</td>\n",
       "      <td>0.399903</td>\n",
       "      <td>0.213873</td>\n",
       "      <td>0.646809</td>\n",
       "      <td>0.457195</td>\n",
       "      <td>0.502174</td>\n",
       "      <td>0.702456</td>\n",
       "    </tr>\n",
       "    <tr>\n",
       "      <th>MDVP:APQ</th>\n",
       "      <td>-0.077774</td>\n",
       "      <td>0.004937</td>\n",
       "      <td>-0.107293</td>\n",
       "      <td>0.758255</td>\n",
       "      <td>0.648793</td>\n",
       "      <td>0.737455</td>\n",
       "      <td>0.804139</td>\n",
       "      <td>0.737439</td>\n",
       "      <td>0.950083</td>\n",
       "      <td>0.960977</td>\n",
       "      <td>...</td>\n",
       "      <td>0.896647</td>\n",
       "      <td>0.694019</td>\n",
       "      <td>-0.800407</td>\n",
       "      <td>0.364316</td>\n",
       "      <td>0.451379</td>\n",
       "      <td>0.157276</td>\n",
       "      <td>0.673158</td>\n",
       "      <td>0.502188</td>\n",
       "      <td>0.536869</td>\n",
       "      <td>0.721694</td>\n",
       "    </tr>\n",
       "    <tr>\n",
       "      <th>Shimmer:DDA</th>\n",
       "      <td>-0.094732</td>\n",
       "      <td>-0.003733</td>\n",
       "      <td>-0.150737</td>\n",
       "      <td>0.746635</td>\n",
       "      <td>0.697170</td>\n",
       "      <td>0.744919</td>\n",
       "      <td>0.763592</td>\n",
       "      <td>0.744901</td>\n",
       "      <td>0.987626</td>\n",
       "      <td>0.963202</td>\n",
       "      <td>...</td>\n",
       "      <td>1.000000</td>\n",
       "      <td>0.716215</td>\n",
       "      <td>-0.827130</td>\n",
       "      <td>0.347608</td>\n",
       "      <td>0.435237</td>\n",
       "      <td>0.151132</td>\n",
       "      <td>0.610971</td>\n",
       "      <td>0.402223</td>\n",
       "      <td>0.467261</td>\n",
       "      <td>0.645389</td>\n",
       "    </tr>\n",
       "    <tr>\n",
       "      <th>NHR</th>\n",
       "      <td>-0.021981</td>\n",
       "      <td>0.163766</td>\n",
       "      <td>-0.108670</td>\n",
       "      <td>0.906959</td>\n",
       "      <td>0.834972</td>\n",
       "      <td>0.919521</td>\n",
       "      <td>0.844604</td>\n",
       "      <td>0.919548</td>\n",
       "      <td>0.722194</td>\n",
       "      <td>0.744477</td>\n",
       "      <td>...</td>\n",
       "      <td>0.716215</td>\n",
       "      <td>1.000000</td>\n",
       "      <td>-0.714072</td>\n",
       "      <td>0.189429</td>\n",
       "      <td>0.370890</td>\n",
       "      <td>-0.131882</td>\n",
       "      <td>0.540865</td>\n",
       "      <td>0.318099</td>\n",
       "      <td>0.470949</td>\n",
       "      <td>0.552591</td>\n",
       "    </tr>\n",
       "    <tr>\n",
       "      <th>HNR</th>\n",
       "      <td>0.059144</td>\n",
       "      <td>-0.024893</td>\n",
       "      <td>0.210851</td>\n",
       "      <td>-0.728165</td>\n",
       "      <td>-0.656810</td>\n",
       "      <td>-0.721543</td>\n",
       "      <td>-0.731510</td>\n",
       "      <td>-0.721494</td>\n",
       "      <td>-0.835271</td>\n",
       "      <td>-0.827805</td>\n",
       "      <td>...</td>\n",
       "      <td>-0.827130</td>\n",
       "      <td>-0.714072</td>\n",
       "      <td>1.000000</td>\n",
       "      <td>-0.361515</td>\n",
       "      <td>-0.598736</td>\n",
       "      <td>-0.008665</td>\n",
       "      <td>-0.673210</td>\n",
       "      <td>-0.431564</td>\n",
       "      <td>-0.601401</td>\n",
       "      <td>-0.692876</td>\n",
       "    </tr>\n",
       "    <tr>\n",
       "      <th>status</th>\n",
       "      <td>-0.383535</td>\n",
       "      <td>-0.166136</td>\n",
       "      <td>-0.380200</td>\n",
       "      <td>0.278220</td>\n",
       "      <td>0.338653</td>\n",
       "      <td>0.266668</td>\n",
       "      <td>0.288698</td>\n",
       "      <td>0.266646</td>\n",
       "      <td>0.367430</td>\n",
       "      <td>0.350697</td>\n",
       "      <td>...</td>\n",
       "      <td>0.347608</td>\n",
       "      <td>0.189429</td>\n",
       "      <td>-0.361515</td>\n",
       "      <td>1.000000</td>\n",
       "      <td>0.308567</td>\n",
       "      <td>0.231739</td>\n",
       "      <td>0.564838</td>\n",
       "      <td>0.454842</td>\n",
       "      <td>0.340232</td>\n",
       "      <td>0.531039</td>\n",
       "    </tr>\n",
       "    <tr>\n",
       "      <th>RPDE</th>\n",
       "      <td>-0.383894</td>\n",
       "      <td>-0.112404</td>\n",
       "      <td>-0.400143</td>\n",
       "      <td>0.360673</td>\n",
       "      <td>0.441839</td>\n",
       "      <td>0.342140</td>\n",
       "      <td>0.333274</td>\n",
       "      <td>0.342079</td>\n",
       "      <td>0.447424</td>\n",
       "      <td>0.410684</td>\n",
       "      <td>...</td>\n",
       "      <td>0.435237</td>\n",
       "      <td>0.370890</td>\n",
       "      <td>-0.598736</td>\n",
       "      <td>0.308567</td>\n",
       "      <td>1.000000</td>\n",
       "      <td>-0.110950</td>\n",
       "      <td>0.591117</td>\n",
       "      <td>0.479905</td>\n",
       "      <td>0.236931</td>\n",
       "      <td>0.545886</td>\n",
       "    </tr>\n",
       "    <tr>\n",
       "      <th>DFA</th>\n",
       "      <td>-0.446013</td>\n",
       "      <td>-0.343097</td>\n",
       "      <td>-0.050406</td>\n",
       "      <td>0.098572</td>\n",
       "      <td>0.175036</td>\n",
       "      <td>0.064083</td>\n",
       "      <td>0.196301</td>\n",
       "      <td>0.064026</td>\n",
       "      <td>0.159954</td>\n",
       "      <td>0.165157</td>\n",
       "      <td>...</td>\n",
       "      <td>0.151132</td>\n",
       "      <td>-0.131882</td>\n",
       "      <td>-0.008665</td>\n",
       "      <td>0.231739</td>\n",
       "      <td>-0.110950</td>\n",
       "      <td>1.000000</td>\n",
       "      <td>0.195668</td>\n",
       "      <td>0.166548</td>\n",
       "      <td>-0.165381</td>\n",
       "      <td>0.270445</td>\n",
       "    </tr>\n",
       "    <tr>\n",
       "      <th>spread1</th>\n",
       "      <td>-0.413738</td>\n",
       "      <td>-0.076658</td>\n",
       "      <td>-0.394857</td>\n",
       "      <td>0.693577</td>\n",
       "      <td>0.735779</td>\n",
       "      <td>0.648328</td>\n",
       "      <td>0.716489</td>\n",
       "      <td>0.648328</td>\n",
       "      <td>0.654734</td>\n",
       "      <td>0.652547</td>\n",
       "      <td>...</td>\n",
       "      <td>0.610971</td>\n",
       "      <td>0.540865</td>\n",
       "      <td>-0.673210</td>\n",
       "      <td>0.564838</td>\n",
       "      <td>0.591117</td>\n",
       "      <td>0.195668</td>\n",
       "      <td>1.000000</td>\n",
       "      <td>0.652358</td>\n",
       "      <td>0.495123</td>\n",
       "      <td>0.962435</td>\n",
       "    </tr>\n",
       "    <tr>\n",
       "      <th>spread2</th>\n",
       "      <td>-0.249450</td>\n",
       "      <td>-0.002954</td>\n",
       "      <td>-0.243829</td>\n",
       "      <td>0.385123</td>\n",
       "      <td>0.388543</td>\n",
       "      <td>0.324407</td>\n",
       "      <td>0.407605</td>\n",
       "      <td>0.324377</td>\n",
       "      <td>0.452025</td>\n",
       "      <td>0.454314</td>\n",
       "      <td>...</td>\n",
       "      <td>0.402223</td>\n",
       "      <td>0.318099</td>\n",
       "      <td>-0.431564</td>\n",
       "      <td>0.454842</td>\n",
       "      <td>0.479905</td>\n",
       "      <td>0.166548</td>\n",
       "      <td>0.652358</td>\n",
       "      <td>1.000000</td>\n",
       "      <td>0.523532</td>\n",
       "      <td>0.644711</td>\n",
       "    </tr>\n",
       "    <tr>\n",
       "      <th>D2</th>\n",
       "      <td>0.177980</td>\n",
       "      <td>0.176323</td>\n",
       "      <td>-0.100629</td>\n",
       "      <td>0.433434</td>\n",
       "      <td>0.310694</td>\n",
       "      <td>0.426605</td>\n",
       "      <td>0.412524</td>\n",
       "      <td>0.426556</td>\n",
       "      <td>0.507088</td>\n",
       "      <td>0.512233</td>\n",
       "      <td>...</td>\n",
       "      <td>0.467261</td>\n",
       "      <td>0.470949</td>\n",
       "      <td>-0.601401</td>\n",
       "      <td>0.340232</td>\n",
       "      <td>0.236931</td>\n",
       "      <td>-0.165381</td>\n",
       "      <td>0.495123</td>\n",
       "      <td>0.523532</td>\n",
       "      <td>1.000000</td>\n",
       "      <td>0.480585</td>\n",
       "    </tr>\n",
       "    <tr>\n",
       "      <th>PPE</th>\n",
       "      <td>-0.372356</td>\n",
       "      <td>-0.069543</td>\n",
       "      <td>-0.340071</td>\n",
       "      <td>0.721543</td>\n",
       "      <td>0.748162</td>\n",
       "      <td>0.670999</td>\n",
       "      <td>0.769647</td>\n",
       "      <td>0.671005</td>\n",
       "      <td>0.693771</td>\n",
       "      <td>0.695058</td>\n",
       "      <td>...</td>\n",
       "      <td>0.645389</td>\n",
       "      <td>0.552591</td>\n",
       "      <td>-0.692876</td>\n",
       "      <td>0.531039</td>\n",
       "      <td>0.545886</td>\n",
       "      <td>0.270445</td>\n",
       "      <td>0.962435</td>\n",
       "      <td>0.644711</td>\n",
       "      <td>0.480585</td>\n",
       "      <td>1.000000</td>\n",
       "    </tr>\n",
       "  </tbody>\n",
       "</table>\n",
       "<p>23 rows × 23 columns</p>\n",
       "</div>"
      ],
      "text/plain": [
       "                  MDVP:Fo(Hz)  MDVP:Fhi(Hz)  MDVP:Flo(Hz)  MDVP:Jitter(%)  \\\n",
       "MDVP:Fo(Hz)          1.000000      0.400985      0.596546       -0.118003   \n",
       "MDVP:Fhi(Hz)         0.400985      1.000000      0.084951        0.102086   \n",
       "MDVP:Flo(Hz)         0.596546      0.084951      1.000000       -0.139919   \n",
       "MDVP:Jitter(%)      -0.118003      0.102086     -0.139919        1.000000   \n",
       "MDVP:Jitter(Abs)    -0.382027     -0.029198     -0.277815        0.935714   \n",
       "MDVP:RAP            -0.076194      0.097177     -0.100519        0.990276   \n",
       "MDVP:PPQ            -0.112165      0.091126     -0.095828        0.974256   \n",
       "Jitter:DDP          -0.076213      0.097150     -0.100488        0.990276   \n",
       "MDVP:Shimmer        -0.098374      0.002281     -0.144543        0.769063   \n",
       "MDVP:Shimmer(dB)    -0.073742      0.043465     -0.119089        0.804289   \n",
       "Shimmer:APQ3        -0.094717     -0.003743     -0.150747        0.746625   \n",
       "Shimmer:APQ5        -0.070682     -0.009997     -0.101095        0.725561   \n",
       "MDVP:APQ            -0.077774      0.004937     -0.107293        0.758255   \n",
       "Shimmer:DDA         -0.094732     -0.003733     -0.150737        0.746635   \n",
       "NHR                 -0.021981      0.163766     -0.108670        0.906959   \n",
       "HNR                  0.059144     -0.024893      0.210851       -0.728165   \n",
       "status              -0.383535     -0.166136     -0.380200        0.278220   \n",
       "RPDE                -0.383894     -0.112404     -0.400143        0.360673   \n",
       "DFA                 -0.446013     -0.343097     -0.050406        0.098572   \n",
       "spread1             -0.413738     -0.076658     -0.394857        0.693577   \n",
       "spread2             -0.249450     -0.002954     -0.243829        0.385123   \n",
       "D2                   0.177980      0.176323     -0.100629        0.433434   \n",
       "PPE                 -0.372356     -0.069543     -0.340071        0.721543   \n",
       "\n",
       "                  MDVP:Jitter(Abs)  MDVP:RAP  MDVP:PPQ  Jitter:DDP  \\\n",
       "MDVP:Fo(Hz)              -0.382027 -0.076194 -0.112165   -0.076213   \n",
       "MDVP:Fhi(Hz)             -0.029198  0.097177  0.091126    0.097150   \n",
       "MDVP:Flo(Hz)             -0.277815 -0.100519 -0.095828   -0.100488   \n",
       "MDVP:Jitter(%)            0.935714  0.990276  0.974256    0.990276   \n",
       "MDVP:Jitter(Abs)          1.000000  0.922911  0.897778    0.922913   \n",
       "MDVP:RAP                  0.922911  1.000000  0.957317    1.000000   \n",
       "MDVP:PPQ                  0.897778  0.957317  1.000000    0.957319   \n",
       "Jitter:DDP                0.922913  1.000000  0.957319    1.000000   \n",
       "MDVP:Shimmer              0.703322  0.759581  0.797826    0.759555   \n",
       "MDVP:Shimmer(dB)          0.716601  0.790652  0.839239    0.790621   \n",
       "Shimmer:APQ3              0.697153  0.744912  0.763580    0.744894   \n",
       "Shimmer:APQ5              0.648961  0.709927  0.786780    0.709907   \n",
       "MDVP:APQ                  0.648793  0.737455  0.804139    0.737439   \n",
       "Shimmer:DDA               0.697170  0.744919  0.763592    0.744901   \n",
       "NHR                       0.834972  0.919521  0.844604    0.919548   \n",
       "HNR                      -0.656810 -0.721543 -0.731510   -0.721494   \n",
       "status                    0.338653  0.266668  0.288698    0.266646   \n",
       "RPDE                      0.441839  0.342140  0.333274    0.342079   \n",
       "DFA                       0.175036  0.064083  0.196301    0.064026   \n",
       "spread1                   0.735779  0.648328  0.716489    0.648328   \n",
       "spread2                   0.388543  0.324407  0.407605    0.324377   \n",
       "D2                        0.310694  0.426605  0.412524    0.426556   \n",
       "PPE                       0.748162  0.670999  0.769647    0.671005   \n",
       "\n",
       "                  MDVP:Shimmer  MDVP:Shimmer(dB)  ...  Shimmer:DDA       NHR  \\\n",
       "MDVP:Fo(Hz)          -0.098374         -0.073742  ...    -0.094732 -0.021981   \n",
       "MDVP:Fhi(Hz)          0.002281          0.043465  ...    -0.003733  0.163766   \n",
       "MDVP:Flo(Hz)         -0.144543         -0.119089  ...    -0.150737 -0.108670   \n",
       "MDVP:Jitter(%)        0.769063          0.804289  ...     0.746635  0.906959   \n",
       "MDVP:Jitter(Abs)      0.703322          0.716601  ...     0.697170  0.834972   \n",
       "MDVP:RAP              0.759581          0.790652  ...     0.744919  0.919521   \n",
       "MDVP:PPQ              0.797826          0.839239  ...     0.763592  0.844604   \n",
       "Jitter:DDP            0.759555          0.790621  ...     0.744901  0.919548   \n",
       "MDVP:Shimmer          1.000000          0.987258  ...     0.987626  0.722194   \n",
       "MDVP:Shimmer(dB)      0.987258          1.000000  ...     0.963202  0.744477   \n",
       "Shimmer:APQ3          0.987625          0.963198  ...     1.000000  0.716207   \n",
       "Shimmer:APQ5          0.982835          0.973751  ...     0.960072  0.658080   \n",
       "MDVP:APQ              0.950083          0.960977  ...     0.896647  0.694019   \n",
       "Shimmer:DDA           0.987626          0.963202  ...     1.000000  0.716215   \n",
       "NHR                   0.722194          0.744477  ...     0.716215  1.000000   \n",
       "HNR                  -0.835271         -0.827805  ...    -0.827130 -0.714072   \n",
       "status                0.367430          0.350697  ...     0.347608  0.189429   \n",
       "RPDE                  0.447424          0.410684  ...     0.435237  0.370890   \n",
       "DFA                   0.159954          0.165157  ...     0.151132 -0.131882   \n",
       "spread1               0.654734          0.652547  ...     0.610971  0.540865   \n",
       "spread2               0.452025          0.454314  ...     0.402223  0.318099   \n",
       "D2                    0.507088          0.512233  ...     0.467261  0.470949   \n",
       "PPE                   0.693771          0.695058  ...     0.645389  0.552591   \n",
       "\n",
       "                       HNR    status      RPDE       DFA   spread1   spread2  \\\n",
       "MDVP:Fo(Hz)       0.059144 -0.383535 -0.383894 -0.446013 -0.413738 -0.249450   \n",
       "MDVP:Fhi(Hz)     -0.024893 -0.166136 -0.112404 -0.343097 -0.076658 -0.002954   \n",
       "MDVP:Flo(Hz)      0.210851 -0.380200 -0.400143 -0.050406 -0.394857 -0.243829   \n",
       "MDVP:Jitter(%)   -0.728165  0.278220  0.360673  0.098572  0.693577  0.385123   \n",
       "MDVP:Jitter(Abs) -0.656810  0.338653  0.441839  0.175036  0.735779  0.388543   \n",
       "MDVP:RAP         -0.721543  0.266668  0.342140  0.064083  0.648328  0.324407   \n",
       "MDVP:PPQ         -0.731510  0.288698  0.333274  0.196301  0.716489  0.407605   \n",
       "Jitter:DDP       -0.721494  0.266646  0.342079  0.064026  0.648328  0.324377   \n",
       "MDVP:Shimmer     -0.835271  0.367430  0.447424  0.159954  0.654734  0.452025   \n",
       "MDVP:Shimmer(dB) -0.827805  0.350697  0.410684  0.165157  0.652547  0.454314   \n",
       "Shimmer:APQ3     -0.827123  0.347617  0.435242  0.151124  0.610967  0.402243   \n",
       "Shimmer:APQ5     -0.813753  0.351148  0.399903  0.213873  0.646809  0.457195   \n",
       "MDVP:APQ         -0.800407  0.364316  0.451379  0.157276  0.673158  0.502188   \n",
       "Shimmer:DDA      -0.827130  0.347608  0.435237  0.151132  0.610971  0.402223   \n",
       "NHR              -0.714072  0.189429  0.370890 -0.131882  0.540865  0.318099   \n",
       "HNR               1.000000 -0.361515 -0.598736 -0.008665 -0.673210 -0.431564   \n",
       "status           -0.361515  1.000000  0.308567  0.231739  0.564838  0.454842   \n",
       "RPDE             -0.598736  0.308567  1.000000 -0.110950  0.591117  0.479905   \n",
       "DFA              -0.008665  0.231739 -0.110950  1.000000  0.195668  0.166548   \n",
       "spread1          -0.673210  0.564838  0.591117  0.195668  1.000000  0.652358   \n",
       "spread2          -0.431564  0.454842  0.479905  0.166548  0.652358  1.000000   \n",
       "D2               -0.601401  0.340232  0.236931 -0.165381  0.495123  0.523532   \n",
       "PPE              -0.692876  0.531039  0.545886  0.270445  0.962435  0.644711   \n",
       "\n",
       "                        D2       PPE  \n",
       "MDVP:Fo(Hz)       0.177980 -0.372356  \n",
       "MDVP:Fhi(Hz)      0.176323 -0.069543  \n",
       "MDVP:Flo(Hz)     -0.100629 -0.340071  \n",
       "MDVP:Jitter(%)    0.433434  0.721543  \n",
       "MDVP:Jitter(Abs)  0.310694  0.748162  \n",
       "MDVP:RAP          0.426605  0.670999  \n",
       "MDVP:PPQ          0.412524  0.769647  \n",
       "Jitter:DDP        0.426556  0.671005  \n",
       "MDVP:Shimmer      0.507088  0.693771  \n",
       "MDVP:Shimmer(dB)  0.512233  0.695058  \n",
       "Shimmer:APQ3      0.467265  0.645377  \n",
       "Shimmer:APQ5      0.502174  0.702456  \n",
       "MDVP:APQ          0.536869  0.721694  \n",
       "Shimmer:DDA       0.467261  0.645389  \n",
       "NHR               0.470949  0.552591  \n",
       "HNR              -0.601401 -0.692876  \n",
       "status            0.340232  0.531039  \n",
       "RPDE              0.236931  0.545886  \n",
       "DFA              -0.165381  0.270445  \n",
       "spread1           0.495123  0.962435  \n",
       "spread2           0.523532  0.644711  \n",
       "D2                1.000000  0.480585  \n",
       "PPE               0.480585  1.000000  \n",
       "\n",
       "[23 rows x 23 columns]"
      ]
     },
     "execution_count": 7,
     "metadata": {},
     "output_type": "execute_result"
    }
   ],
   "source": [
    "parkinson_data.corr()"
   ]
  },
  {
   "cell_type": "code",
   "execution_count": 8,
   "id": "f7558cb8",
   "metadata": {
    "execution": {
     "iopub.execute_input": "2021-09-12T08:21:40.468595Z",
     "iopub.status.busy": "2021-09-12T08:21:40.467928Z",
     "iopub.status.idle": "2021-09-12T08:21:43.714176Z",
     "shell.execute_reply": "2021-09-12T08:21:43.714688Z",
     "shell.execute_reply.started": "2021-09-12T07:23:56.352267Z"
    },
    "papermill": {
     "duration": 3.297304,
     "end_time": "2021-09-12T08:21:43.714860",
     "exception": false,
     "start_time": "2021-09-12T08:21:40.417556",
     "status": "completed"
    },
    "tags": []
   },
   "outputs": [
    {
     "data": {
      "image/png": "[encoded data removed]",
      "text/plain": [
       "<Figure size 1800x1800 with 2 Axes>"
      ]
     },
     "metadata": {
      "needs_background": "light"
     },
     "output_type": "display_data"
    }
   ],
   "source": [
    "plt.figure(figsize=(25, 25))\n",
    "p = sns.heatmap(parkinson_data.corr(), annot=True)"
   ]
  },
  {
   "cell_type": "markdown",
   "id": "8eccbb81",
   "metadata": {
    "papermill": {
     "duration": 0.052717,
     "end_time": "2021-09-12T08:21:43.819704",
     "exception": false,
     "start_time": "2021-09-12T08:21:43.766987",
     "status": "completed"
    },
    "tags": []
   },
   "source": [
    "Our target variable here is '**status**' column, **0 -->** *Without Parkison Disease*, **1 -->** *Has Parkinson Disease*"
   ]
  },
  {
   "cell_type": "code",
   "execution_count": 9,
   "id": "50b7ab40",
   "metadata": {
    "execution": {
     "iopub.execute_input": "2021-09-12T08:21:43.932067Z",
     "iopub.status.busy": "2021-09-12T08:21:43.928708Z",
     "iopub.status.idle": "2021-09-12T08:21:43.935971Z",
     "shell.execute_reply": "2021-09-12T08:21:43.936425Z",
     "shell.execute_reply.started": "2021-09-12T07:24:12.785552Z"
    },
    "papermill": {
     "duration": 0.063795,
     "end_time": "2021-09-12T08:21:43.936630",
     "exception": false,
     "start_time": "2021-09-12T08:21:43.872835",
     "status": "completed"
    },
    "tags": []
   },
   "outputs": [
    {
     "data": {
      "text/plain": [
       "1    147\n",
       "0     48\n",
       "Name: status, dtype: int64"
      ]
     },
     "execution_count": 9,
     "metadata": {},
     "output_type": "execute_result"
    }
   ],
   "source": [
    "# target variable = status \n",
    "parkinson_data['status'].value_counts()"
   ]
  },
  {
   "cell_type": "markdown",
   "id": "21d7c45a",
   "metadata": {
    "papermill": {
     "duration": 0.053666,
     "end_time": "2021-09-12T08:21:44.043055",
     "exception": false,
     "start_time": "2021-09-12T08:21:43.989389",
     "status": "completed"
    },
    "tags": []
   },
   "source": [
    "# Grouping Data based on target variable"
   ]
  },
  {
   "cell_type": "code",
   "execution_count": 10,
   "id": "0278c025",
   "metadata": {
    "execution": {
     "iopub.execute_input": "2021-09-12T08:21:44.179135Z",
     "iopub.status.busy": "2021-09-12T08:21:44.167231Z",
     "iopub.status.idle": "2021-09-12T08:21:44.182100Z",
     "shell.execute_reply": "2021-09-12T08:21:44.182567Z",
     "shell.execute_reply.started": "2021-09-12T07:26:22.525471Z"
    },
    "papermill": {
     "duration": 0.084163,
     "end_time": "2021-09-12T08:21:44.182744",
     "exception": false,
     "start_time": "2021-09-12T08:21:44.098581",
     "status": "completed"
    },
    "tags": []
   },
   "outputs": [
    {
     "data": {
      "text/html": [
       "<div>\n",
       "<style scoped>\n",
       "    .dataframe tbody tr th:only-of-type {\n",
       "        vertical-align: middle;\n",
       "    }\n",
       "\n",
       "    .dataframe tbody tr th {\n",
       "        vertical-align: top;\n",
       "    }\n",
       "\n",
       "    .dataframe thead th {\n",
       "        text-align: right;\n",
       "    }\n",
       "</style>\n",
       "<table border=\"1\" class=\"dataframe\">\n",
       "  <thead>\n",
       "    <tr style=\"text-align: right;\">\n",
       "      <th></th>\n",
       "      <th>MDVP:Fo(Hz)</th>\n",
       "      <th>MDVP:Fhi(Hz)</th>\n",
       "      <th>MDVP:Flo(Hz)</th>\n",
       "      <th>MDVP:Jitter(%)</th>\n",
       "      <th>MDVP:Jitter(Abs)</th>\n",
       "      <th>MDVP:RAP</th>\n",
       "      <th>MDVP:PPQ</th>\n",
       "      <th>Jitter:DDP</th>\n",
       "      <th>MDVP:Shimmer</th>\n",
       "      <th>MDVP:Shimmer(dB)</th>\n",
       "      <th>...</th>\n",
       "      <th>MDVP:APQ</th>\n",
       "      <th>Shimmer:DDA</th>\n",
       "      <th>NHR</th>\n",
       "      <th>HNR</th>\n",
       "      <th>RPDE</th>\n",
       "      <th>DFA</th>\n",
       "      <th>spread1</th>\n",
       "      <th>spread2</th>\n",
       "      <th>D2</th>\n",
       "      <th>PPE</th>\n",
       "    </tr>\n",
       "    <tr>\n",
       "      <th>status</th>\n",
       "      <th></th>\n",
       "      <th></th>\n",
       "      <th></th>\n",
       "      <th></th>\n",
       "      <th></th>\n",
       "      <th></th>\n",
       "      <th></th>\n",
       "      <th></th>\n",
       "      <th></th>\n",
       "      <th></th>\n",
       "      <th></th>\n",
       "      <th></th>\n",
       "      <th></th>\n",
       "      <th></th>\n",
       "      <th></th>\n",
       "      <th></th>\n",
       "      <th></th>\n",
       "      <th></th>\n",
       "      <th></th>\n",
       "      <th></th>\n",
       "      <th></th>\n",
       "    </tr>\n",
       "  </thead>\n",
       "  <tbody>\n",
       "    <tr>\n",
       "      <th>0</th>\n",
       "      <td>181.937771</td>\n",
       "      <td>223.636750</td>\n",
       "      <td>145.207292</td>\n",
       "      <td>0.003866</td>\n",
       "      <td>0.000023</td>\n",
       "      <td>0.001925</td>\n",
       "      <td>0.002056</td>\n",
       "      <td>0.005776</td>\n",
       "      <td>0.017615</td>\n",
       "      <td>0.162958</td>\n",
       "      <td>...</td>\n",
       "      <td>0.013305</td>\n",
       "      <td>0.028511</td>\n",
       "      <td>0.011483</td>\n",
       "      <td>24.678750</td>\n",
       "      <td>0.442552</td>\n",
       "      <td>0.695716</td>\n",
       "      <td>-6.759264</td>\n",
       "      <td>0.160292</td>\n",
       "      <td>2.154491</td>\n",
       "      <td>0.123017</td>\n",
       "    </tr>\n",
       "    <tr>\n",
       "      <th>1</th>\n",
       "      <td>145.180762</td>\n",
       "      <td>188.441463</td>\n",
       "      <td>106.893558</td>\n",
       "      <td>0.006989</td>\n",
       "      <td>0.000051</td>\n",
       "      <td>0.003757</td>\n",
       "      <td>0.003900</td>\n",
       "      <td>0.011273</td>\n",
       "      <td>0.033658</td>\n",
       "      <td>0.321204</td>\n",
       "      <td>...</td>\n",
       "      <td>0.027600</td>\n",
       "      <td>0.053027</td>\n",
       "      <td>0.029211</td>\n",
       "      <td>20.974048</td>\n",
       "      <td>0.516816</td>\n",
       "      <td>0.725408</td>\n",
       "      <td>-5.333420</td>\n",
       "      <td>0.248133</td>\n",
       "      <td>2.456058</td>\n",
       "      <td>0.233828</td>\n",
       "    </tr>\n",
       "  </tbody>\n",
       "</table>\n",
       "<p>2 rows × 22 columns</p>\n",
       "</div>"
      ],
      "text/plain": [
       "        MDVP:Fo(Hz)  MDVP:Fhi(Hz)  MDVP:Flo(Hz)  MDVP:Jitter(%)  \\\n",
       "status                                                            \n",
       "0        181.937771    223.636750    145.207292        0.003866   \n",
       "1        145.180762    188.441463    106.893558        0.006989   \n",
       "\n",
       "        MDVP:Jitter(Abs)  MDVP:RAP  MDVP:PPQ  Jitter:DDP  MDVP:Shimmer  \\\n",
       "status                                                                   \n",
       "0               0.000023  0.001925  0.002056    0.005776      0.017615   \n",
       "1               0.000051  0.003757  0.003900    0.011273      0.033658   \n",
       "\n",
       "        MDVP:Shimmer(dB)  ...  MDVP:APQ  Shimmer:DDA       NHR        HNR  \\\n",
       "status                    ...                                               \n",
       "0               0.162958  ...  0.013305     0.028511  0.011483  24.678750   \n",
       "1               0.321204  ...  0.027600     0.053027  0.029211  20.974048   \n",
       "\n",
       "            RPDE       DFA   spread1   spread2        D2       PPE  \n",
       "status                                                              \n",
       "0       0.442552  0.695716 -6.759264  0.160292  2.154491  0.123017  \n",
       "1       0.516816  0.725408 -5.333420  0.248133  2.456058  0.233828  \n",
       "\n",
       "[2 rows x 22 columns]"
      ]
     },
     "execution_count": 10,
     "metadata": {},
     "output_type": "execute_result"
    }
   ],
   "source": [
    "parkinson_data.groupby('status').mean()"
   ]
  },
  {
   "cell_type": "markdown",
   "id": "955c953e",
   "metadata": {
    "papermill": {
     "duration": 0.053125,
     "end_time": "2021-09-12T08:21:44.290486",
     "exception": false,
     "start_time": "2021-09-12T08:21:44.237361",
     "status": "completed"
    },
    "tags": []
   },
   "source": [
    "# Data Pre-Processing"
   ]
  },
  {
   "cell_type": "markdown",
   "id": "fd27d9d7",
   "metadata": {
    "papermill": {
     "duration": 0.053091,
     "end_time": "2021-09-12T08:21:44.396609",
     "exception": false,
     "start_time": "2021-09-12T08:21:44.343518",
     "status": "completed"
    },
    "tags": []
   },
   "source": [
    "## Seperating Other variables and Target Variables"
   ]
  },
  {
   "cell_type": "code",
   "execution_count": 11,
   "id": "a7f3c53d",
   "metadata": {
    "execution": {
     "iopub.execute_input": "2021-09-12T08:21:44.509434Z",
     "iopub.status.busy": "2021-09-12T08:21:44.508789Z",
     "iopub.status.idle": "2021-09-12T08:21:44.511571Z",
     "shell.execute_reply": "2021-09-12T08:21:44.511014Z",
     "shell.execute_reply.started": "2021-09-12T07:27:25.439115Z"
    },
    "papermill": {
     "duration": 0.061727,
     "end_time": "2021-09-12T08:21:44.511708",
     "exception": false,
     "start_time": "2021-09-12T08:21:44.449981",
     "status": "completed"
    },
    "tags": []
   },
   "outputs": [],
   "source": [
    "X = parkinson_data.drop(columns=['status','name'], axis=1) # Note : dropping column axis = 1; dropping row then axis = 0\n",
    "Y = parkinson_data['status']"
   ]
  },
  {
   "cell_type": "code",
   "execution_count": 12,
   "id": "a2842719",
   "metadata": {
    "execution": {
     "iopub.execute_input": "2021-09-12T08:21:44.631489Z",
     "iopub.status.busy": "2021-09-12T08:21:44.621962Z",
     "iopub.status.idle": "2021-09-12T08:21:44.640585Z",
     "shell.execute_reply": "2021-09-12T08:21:44.641110Z",
     "shell.execute_reply.started": "2021-09-12T07:27:31.086198Z"
    },
    "papermill": {
     "duration": 0.075662,
     "end_time": "2021-09-12T08:21:44.641281",
     "exception": false,
     "start_time": "2021-09-12T08:21:44.565619",
     "status": "completed"
    },
    "tags": []
   },
   "outputs": [
    {
     "name": "stdout",
     "output_type": "stream",
     "text": [
      "     MDVP:Fo(Hz)  MDVP:Fhi(Hz)  MDVP:Flo(Hz)  MDVP:Jitter(%)  \\\n",
      "0        119.992       157.302        74.997         0.00784   \n",
      "1        122.400       148.650       113.819         0.00968   \n",
      "2        116.682       131.111       111.555         0.01050   \n",
      "3        116.676       137.871       111.366         0.00997   \n",
      "4        116.014       141.781       110.655         0.01284   \n",
      "..           ...           ...           ...             ...   \n",
      "190      174.188       230.978        94.261         0.00459   \n",
      "191      209.516       253.017        89.488         0.00564   \n",
      "192      174.688       240.005        74.287         0.01360   \n",
      "193      198.764       396.961        74.904         0.00740   \n",
      "194      214.289       260.277        77.973         0.00567   \n",
      "\n",
      "     MDVP:Jitter(Abs)  MDVP:RAP  MDVP:PPQ  Jitter:DDP  MDVP:Shimmer  \\\n",
      "0             0.00007   0.00370   0.00554     0.01109       0.04374   \n",
      "1             0.00008   0.00465   0.00696     0.01394       0.06134   \n",
      "2             0.00009   0.00544   0.00781     0.01633       0.05233   \n",
      "3             0.00009   0.00502   0.00698     0.01505       0.05492   \n",
      "4             0.00011   0.00655   0.00908     0.01966       0.06425   \n",
      "..                ...       ...       ...         ...           ...   \n",
      "190           0.00003   0.00263   0.00259     0.00790       0.04087   \n",
      "191           0.00003   0.00331   0.00292     0.00994       0.02751   \n",
      "192           0.00008   0.00624   0.00564     0.01873       0.02308   \n",
      "193           0.00004   0.00370   0.00390     0.01109       0.02296   \n",
      "194           0.00003   0.00295   0.00317     0.00885       0.01884   \n",
      "\n",
      "     MDVP:Shimmer(dB)  ...  MDVP:APQ  Shimmer:DDA      NHR     HNR      RPDE  \\\n",
      "0               0.426  ...   0.02971      0.06545  0.02211  21.033  0.414783   \n",
      "1               0.626  ...   0.04368      0.09403  0.01929  19.085  0.458359   \n",
      "2               0.482  ...   0.03590      0.08270  0.01309  20.651  0.429895   \n",
      "3               0.517  ...   0.03772      0.08771  0.01353  20.644  0.434969   \n",
      "4               0.584  ...   0.04465      0.10470  0.01767  19.649  0.417356   \n",
      "..                ...  ...       ...          ...      ...     ...       ...   \n",
      "190             0.405  ...   0.02745      0.07008  0.02764  19.517  0.448439   \n",
      "191             0.263  ...   0.01879      0.04812  0.01810  19.147  0.431674   \n",
      "192             0.256  ...   0.01667      0.03804  0.10715  17.883  0.407567   \n",
      "193             0.241  ...   0.01588      0.03794  0.07223  19.020  0.451221   \n",
      "194             0.190  ...   0.01373      0.03078  0.04398  21.209  0.462803   \n",
      "\n",
      "          DFA   spread1   spread2        D2       PPE  \n",
      "0    0.815285 -4.813031  0.266482  2.301442  0.284654  \n",
      "1    0.819521 -4.075192  0.335590  2.486855  0.368674  \n",
      "2    0.825288 -4.443179  0.311173  2.342259  0.332634  \n",
      "3    0.819235 -4.117501  0.334147  2.405554  0.368975  \n",
      "4    0.823484 -3.747787  0.234513  2.332180  0.410335  \n",
      "..        ...       ...       ...       ...       ...  \n",
      "190  0.657899 -6.538586  0.121952  2.657476  0.133050  \n",
      "191  0.683244 -6.195325  0.129303  2.784312  0.168895  \n",
      "192  0.655683 -6.787197  0.158453  2.679772  0.131728  \n",
      "193  0.643956 -6.744577  0.207454  2.138608  0.123306  \n",
      "194  0.664357 -5.724056  0.190667  2.555477  0.148569  \n",
      "\n",
      "[195 rows x 22 columns]\n"
     ]
    }
   ],
   "source": [
    "print(X)"
   ]
  },
  {
   "cell_type": "code",
   "execution_count": 13,
   "id": "938117d3",
   "metadata": {
    "execution": {
     "iopub.execute_input": "2021-09-12T08:21:44.751707Z",
     "iopub.status.busy": "2021-09-12T08:21:44.751030Z",
     "iopub.status.idle": "2021-09-12T08:21:44.756923Z",
     "shell.execute_reply": "2021-09-12T08:21:44.757391Z",
     "shell.execute_reply.started": "2021-09-12T07:27:36.184648Z"
    },
    "papermill": {
     "duration": 0.062765,
     "end_time": "2021-09-12T08:21:44.757590",
     "exception": false,
     "start_time": "2021-09-12T08:21:44.694825",
     "status": "completed"
    },
    "tags": []
   },
   "outputs": [
    {
     "name": "stdout",
     "output_type": "stream",
     "text": [
      "0      1\n",
      "1      1\n",
      "2      1\n",
      "3      1\n",
      "4      1\n",
      "      ..\n",
      "190    0\n",
      "191    0\n",
      "192    0\n",
      "193    0\n",
      "194    0\n",
      "Name: status, Length: 195, dtype: int64\n"
     ]
    }
   ],
   "source": [
    "print(Y)"
   ]
  },
  {
   "cell_type": "markdown",
   "id": "7969280c",
   "metadata": {
    "papermill": {
     "duration": 0.053992,
     "end_time": "2021-09-12T08:21:44.866949",
     "exception": false,
     "start_time": "2021-09-12T08:21:44.812957",
     "status": "completed"
    },
    "tags": []
   },
   "source": [
    "## Splitting data into testing and training"
   ]
  },
  {
   "cell_type": "code",
   "execution_count": 14,
   "id": "10b7b756",
   "metadata": {
    "execution": {
     "iopub.execute_input": "2021-09-12T08:21:44.984638Z",
     "iopub.status.busy": "2021-09-12T08:21:44.983867Z",
     "iopub.status.idle": "2021-09-12T08:21:44.985219Z",
     "shell.execute_reply": "2021-09-12T08:21:44.985813Z",
     "shell.execute_reply.started": "2021-09-12T07:27:59.992542Z"
    },
    "papermill": {
     "duration": 0.064942,
     "end_time": "2021-09-12T08:21:44.985996",
     "exception": false,
     "start_time": "2021-09-12T08:21:44.921054",
     "status": "completed"
    },
    "tags": []
   },
   "outputs": [],
   "source": [
    "X_train, X_test, Y_train, Y_test = train_test_split(X, Y, test_size=0.2, random_state=2)"
   ]
  },
  {
   "cell_type": "code",
   "execution_count": 15,
   "id": "6e75cf1f",
   "metadata": {
    "execution": {
     "iopub.execute_input": "2021-09-12T08:21:45.101050Z",
     "iopub.status.busy": "2021-09-12T08:21:45.100389Z",
     "iopub.status.idle": "2021-09-12T08:21:45.103147Z",
     "shell.execute_reply": "2021-09-12T08:21:45.103660Z",
     "shell.execute_reply.started": "2021-09-12T07:28:04.301458Z"
    },
    "papermill": {
     "duration": 0.063009,
     "end_time": "2021-09-12T08:21:45.103827",
     "exception": false,
     "start_time": "2021-09-12T08:21:45.040818",
     "status": "completed"
    },
    "tags": []
   },
   "outputs": [
    {
     "name": "stdout",
     "output_type": "stream",
     "text": [
      "(195, 22) (156, 22) (39, 22)\n"
     ]
    }
   ],
   "source": [
    "print(X.shape, X_train.shape, X_test.shape)"
   ]
  },
  {
   "cell_type": "markdown",
   "id": "bfcbe1f1",
   "metadata": {
    "papermill": {
     "duration": 0.054049,
     "end_time": "2021-09-12T08:21:45.213062",
     "exception": false,
     "start_time": "2021-09-12T08:21:45.159013",
     "status": "completed"
    },
    "tags": []
   },
   "source": [
    "# Data Standardization"
   ]
  },
  {
   "cell_type": "code",
   "execution_count": 16,
   "id": "b0889ab2",
   "metadata": {
    "execution": {
     "iopub.execute_input": "2021-09-12T08:21:45.327615Z",
     "iopub.status.busy": "2021-09-12T08:21:45.326800Z",
     "iopub.status.idle": "2021-09-12T08:21:45.329855Z",
     "shell.execute_reply": "2021-09-12T08:21:45.329218Z",
     "shell.execute_reply.started": "2021-09-12T07:28:27.67747Z"
    },
    "papermill": {
     "duration": 0.062152,
     "end_time": "2021-09-12T08:21:45.329994",
     "exception": false,
     "start_time": "2021-09-12T08:21:45.267842",
     "status": "completed"
    },
    "tags": []
   },
   "outputs": [],
   "source": [
    "scaler = StandardScaler()"
   ]
  },
  {
   "cell_type": "code",
   "execution_count": 17,
   "id": "9cd84e9d",
   "metadata": {
    "execution": {
     "iopub.execute_input": "2021-09-12T08:21:45.447524Z",
     "iopub.status.busy": "2021-09-12T08:21:45.446842Z",
     "iopub.status.idle": "2021-09-12T08:21:45.452388Z",
     "shell.execute_reply": "2021-09-12T08:21:45.451847Z",
     "shell.execute_reply.started": "2021-09-12T07:28:32.599214Z"
    },
    "papermill": {
     "duration": 0.067614,
     "end_time": "2021-09-12T08:21:45.452544",
     "exception": false,
     "start_time": "2021-09-12T08:21:45.384930",
     "status": "completed"
    },
    "tags": []
   },
   "outputs": [
    {
     "data": {
      "text/plain": [
       "StandardScaler()"
      ]
     },
     "execution_count": 17,
     "metadata": {},
     "output_type": "execute_result"
    }
   ],
   "source": [
    "scaler.fit(X_train)"
   ]
  },
  {
   "cell_type": "code",
   "execution_count": 18,
   "id": "8b54ca44",
   "metadata": {
    "execution": {
     "iopub.execute_input": "2021-09-12T08:21:45.568715Z",
     "iopub.status.busy": "2021-09-12T08:21:45.568050Z",
     "iopub.status.idle": "2021-09-12T08:21:45.572908Z",
     "shell.execute_reply": "2021-09-12T08:21:45.572254Z",
     "shell.execute_reply.started": "2021-09-12T07:28:38.386495Z"
    },
    "papermill": {
     "duration": 0.065241,
     "end_time": "2021-09-12T08:21:45.573042",
     "exception": false,
     "start_time": "2021-09-12T08:21:45.507801",
     "status": "completed"
    },
    "tags": []
   },
   "outputs": [],
   "source": [
    "X_train = scaler.transform(X_train)\n",
    "X_test = scaler.transform(X_test)"
   ]
  },
  {
   "cell_type": "code",
   "execution_count": 19,
   "id": "3ff8c8fa",
   "metadata": {
    "execution": {
     "iopub.execute_input": "2021-09-12T08:21:45.686769Z",
     "iopub.status.busy": "2021-09-12T08:21:45.686036Z",
     "iopub.status.idle": "2021-09-12T08:21:45.690615Z",
     "shell.execute_reply": "2021-09-12T08:21:45.691240Z",
     "shell.execute_reply.started": "2021-09-12T07:28:43.74788Z"
    },
    "papermill": {
     "duration": 0.063128,
     "end_time": "2021-09-12T08:21:45.691419",
     "exception": false,
     "start_time": "2021-09-12T08:21:45.628291",
     "status": "completed"
    },
    "tags": []
   },
   "outputs": [
    {
     "name": "stdout",
     "output_type": "stream",
     "text": [
      "[[ 0.63239631 -0.02731081 -0.87985049 ... -0.97586547 -0.55160318\n",
      "   0.07769494]\n",
      " [-1.05512719 -0.83337041 -0.9284778  ...  0.3981808  -0.61014073\n",
      "   0.39291782]\n",
      " [ 0.02996187 -0.29531068 -1.12211107 ... -0.43937044 -0.62849605\n",
      "  -0.50948408]\n",
      " ...\n",
      " [-0.9096785  -0.6637302  -0.160638   ...  1.22001022 -0.47404629\n",
      "  -0.2159482 ]\n",
      " [-0.35977689  0.19731822 -0.79063679 ... -0.17896029 -0.47272835\n",
      "   0.28181221]\n",
      " [ 1.01957066  0.19922317 -0.61914972 ... -0.716232    1.23632066\n",
      "  -0.05829386]]\n"
     ]
    }
   ],
   "source": [
    "print(X_train)"
   ]
  },
  {
   "cell_type": "markdown",
   "id": "60e941f9",
   "metadata": {
    "papermill": {
     "duration": 0.055036,
     "end_time": "2021-09-12T08:21:45.802917",
     "exception": false,
     "start_time": "2021-09-12T08:21:45.747881",
     "status": "completed"
    },
    "tags": []
   },
   "source": [
    "# Model Training"
   ]
  },
  {
   "cell_type": "markdown",
   "id": "a0d90ed5",
   "metadata": {
    "papermill": {
     "duration": 0.056942,
     "end_time": "2021-09-12T08:21:45.916564",
     "exception": false,
     "start_time": "2021-09-12T08:21:45.859622",
     "status": "completed"
    },
    "tags": []
   },
   "source": [
    "### We will train the model using Support Vector Machine (SVM)"
   ]
  },
  {
   "cell_type": "code",
   "execution_count": 20,
   "id": "c87f3f33",
   "metadata": {
    "execution": {
     "iopub.execute_input": "2021-09-12T08:21:46.031572Z",
     "iopub.status.busy": "2021-09-12T08:21:46.030837Z",
     "iopub.status.idle": "2021-09-12T08:21:46.034965Z",
     "shell.execute_reply": "2021-09-12T08:21:46.035519Z",
     "shell.execute_reply.started": "2021-09-12T07:29:45.828906Z"
    },
    "papermill": {
     "duration": 0.063474,
     "end_time": "2021-09-12T08:21:46.035703",
     "exception": false,
     "start_time": "2021-09-12T08:21:45.972229",
     "status": "completed"
    },
    "tags": []
   },
   "outputs": [],
   "source": [
    "model = svm.SVC(kernel='linear')"
   ]
  },
  {
   "cell_type": "code",
   "execution_count": 21,
   "id": "3b00279f",
   "metadata": {
    "execution": {
     "iopub.execute_input": "2021-09-12T08:21:46.152118Z",
     "iopub.status.busy": "2021-09-12T08:21:46.151390Z",
     "iopub.status.idle": "2021-09-12T08:21:46.157882Z",
     "shell.execute_reply": "2021-09-12T08:21:46.157264Z",
     "shell.execute_reply.started": "2021-09-12T07:29:50.407372Z"
    },
    "papermill": {
     "duration": 0.066236,
     "end_time": "2021-09-12T08:21:46.158032",
     "exception": false,
     "start_time": "2021-09-12T08:21:46.091796",
     "status": "completed"
    },
    "tags": []
   },
   "outputs": [
    {
     "data": {
      "text/plain": [
       "SVC(kernel='linear')"
      ]
     },
     "execution_count": 21,
     "metadata": {},
     "output_type": "execute_result"
    }
   ],
   "source": [
    "# training the SVM model with training data\n",
    "model.fit(X_train, Y_train)"
   ]
  },
  {
   "cell_type": "markdown",
   "id": "ff3d568b",
   "metadata": {
    "papermill": {
     "duration": 0.056734,
     "end_time": "2021-09-12T08:21:46.271266",
     "exception": false,
     "start_time": "2021-09-12T08:21:46.214532",
     "status": "completed"
    },
    "tags": []
   },
   "source": [
    "# Model Evaluation"
   ]
  },
  {
   "cell_type": "code",
   "execution_count": 22,
   "id": "8373ab5f",
   "metadata": {
    "execution": {
     "iopub.execute_input": "2021-09-12T08:21:46.388197Z",
     "iopub.status.busy": "2021-09-12T08:21:46.387266Z",
     "iopub.status.idle": "2021-09-12T08:21:46.390295Z",
     "shell.execute_reply": "2021-09-12T08:21:46.390812Z",
     "shell.execute_reply.started": "2021-09-12T07:30:12.311453Z"
    },
    "papermill": {
     "duration": 0.064238,
     "end_time": "2021-09-12T08:21:46.391015",
     "exception": false,
     "start_time": "2021-09-12T08:21:46.326777",
     "status": "completed"
    },
    "tags": []
   },
   "outputs": [],
   "source": [
    "# Accuracy Score on training data\n",
    "X_train_pred = model.predict(X_train)\n",
    "training_data_accuracy = accuracy_score(Y_train, X_train_pred)"
   ]
  },
  {
   "cell_type": "code",
   "execution_count": 23,
   "id": "f82727e1",
   "metadata": {
    "execution": {
     "iopub.execute_input": "2021-09-12T08:21:46.506809Z",
     "iopub.status.busy": "2021-09-12T08:21:46.504797Z",
     "iopub.status.idle": "2021-09-12T08:21:46.510811Z",
     "shell.execute_reply": "2021-09-12T08:21:46.510212Z",
     "shell.execute_reply.started": "2021-09-12T07:30:18.43819Z"
    },
    "papermill": {
     "duration": 0.064279,
     "end_time": "2021-09-12T08:21:46.510948",
     "exception": false,
     "start_time": "2021-09-12T08:21:46.446669",
     "status": "completed"
    },
    "tags": []
   },
   "outputs": [
    {
     "name": "stdout",
     "output_type": "stream",
     "text": [
      "Accuracy (Training Data) : 88.46153846153845 %\n"
     ]
    }
   ],
   "source": [
    "print('Accuracy (Training Data) :', training_data_accuracy*100, '%')"
   ]
  },
  {
   "cell_type": "code",
   "execution_count": 24,
   "id": "97065b12",
   "metadata": {
    "execution": {
     "iopub.execute_input": "2021-09-12T08:21:46.629257Z",
     "iopub.status.busy": "2021-09-12T08:21:46.628154Z",
     "iopub.status.idle": "2021-09-12T08:21:46.631905Z",
     "shell.execute_reply": "2021-09-12T08:21:46.631382Z",
     "shell.execute_reply.started": "2021-09-12T07:30:24.388257Z"
    },
    "papermill": {
     "duration": 0.064303,
     "end_time": "2021-09-12T08:21:46.632046",
     "exception": false,
     "start_time": "2021-09-12T08:21:46.567743",
     "status": "completed"
    },
    "tags": []
   },
   "outputs": [],
   "source": [
    "# Accuracy Score on test data\n",
    "X_test_pred = model.predict(X_test)\n",
    "testing_data_accuracy = accuracy_score(Y_test, X_test_pred)"
   ]
  },
  {
   "cell_type": "code",
   "execution_count": 25,
   "id": "a75fd840",
   "metadata": {
    "execution": {
     "iopub.execute_input": "2021-09-12T08:21:46.749791Z",
     "iopub.status.busy": "2021-09-12T08:21:46.748679Z",
     "iopub.status.idle": "2021-09-12T08:21:46.752279Z",
     "shell.execute_reply": "2021-09-12T08:21:46.752997Z",
     "shell.execute_reply.started": "2021-09-12T07:30:29.379701Z"
    },
    "papermill": {
     "duration": 0.065406,
     "end_time": "2021-09-12T08:21:46.753221",
     "exception": false,
     "start_time": "2021-09-12T08:21:46.687815",
     "status": "completed"
    },
    "tags": []
   },
   "outputs": [
    {
     "name": "stdout",
     "output_type": "stream",
     "text": [
      "Accuracy (Testing Data) : 87.17948717948718 %\n"
     ]
    }
   ],
   "source": [
    "print('Accuracy (Testing Data) :', testing_data_accuracy*100, '%')"
   ]
  },
  {
   "cell_type": "markdown",
   "id": "d46ef564",
   "metadata": {
    "papermill": {
     "duration": 0.056004,
     "end_time": "2021-09-12T08:21:46.867275",
     "exception": false,
     "start_time": "2021-09-12T08:21:46.811271",
     "status": "completed"
    },
    "tags": []
   },
   "source": [
    "# Predictive System"
   ]
  },
  {
   "cell_type": "markdown",
   "id": "a4039968",
   "metadata": {
    "papermill": {
     "duration": 0.055746,
     "end_time": "2021-09-12T08:21:46.979256",
     "exception": false,
     "start_time": "2021-09-12T08:21:46.923510",
     "status": "completed"
    },
    "tags": []
   },
   "source": [
    "### We will now test our model taking some input data, since only testing the model is not enough, we also need to check it against some input values given by the user"
   ]
  },
  {
   "cell_type": "markdown",
   "id": "fb034690",
   "metadata": {
    "papermill": {
     "duration": 0.055848,
     "end_time": "2021-09-12T08:21:47.092248",
     "exception": false,
     "start_time": "2021-09-12T08:21:47.036400",
     "status": "completed"
    },
    "tags": []
   },
   "source": [
    "#### Case 1 : Input Values of Patient having Parkinson, let's see if the model is able to predict or not"
   ]
  },
  {
   "cell_type": "code",
   "execution_count": 26,
   "id": "02e5bd08",
   "metadata": {
    "execution": {
     "iopub.execute_input": "2021-09-12T08:21:47.213673Z",
     "iopub.status.busy": "2021-09-12T08:21:47.212912Z",
     "iopub.status.idle": "2021-09-12T08:21:47.215899Z",
     "shell.execute_reply": "2021-09-12T08:21:47.216400Z",
     "shell.execute_reply.started": "2021-09-12T07:34:58.44894Z"
    },
    "papermill": {
     "duration": 0.068503,
     "end_time": "2021-09-12T08:21:47.216584",
     "exception": false,
     "start_time": "2021-09-12T08:21:47.148081",
     "status": "completed"
    },
    "tags": []
   },
   "outputs": [
    {
     "name": "stdout",
     "output_type": "stream",
     "text": [
      "[1]\n",
      "The patient has Parkinson\n"
     ]
    }
   ],
   "source": [
    "input_data = (95.730,132.068,91.754,0.00551,0.00006,0.00293,0.00332,0.00880,0.02093,0.191,0.01073,0.01277,0.01717,0.03218,0.01070,21.812,0.615551,0.773587,-5.498678,0.327769,2.322511,0.231571)\n",
    "\n",
    "# changing input data to numpy array\n",
    "input_data_numpy = np.asarray(input_data)\n",
    "\n",
    "#reshaping the numpy array \n",
    "input_data_reshape = input_data_numpy.reshape(1,-1)\n",
    "\n",
    "#standardizing the input data \n",
    "std_data = scaler.transform(input_data_reshape)\n",
    "\n",
    "## prediction\n",
    "prediction = model.predict(std_data)\n",
    "print(prediction)\n",
    "\n",
    "if (prediction[0] == 1):\n",
    "  print('The patient has Parkinson')\n",
    "elif (prediction[0] == 0):\n",
    "  print('The patient does not have Parkinson')\n",
    "else:\n",
    "  print('Some error in processing')"
   ]
  },
  {
   "cell_type": "markdown",
   "id": "20e1fa99",
   "metadata": {
    "papermill": {
     "duration": 0.055954,
     "end_time": "2021-09-12T08:21:47.329249",
     "exception": false,
     "start_time": "2021-09-12T08:21:47.273295",
     "status": "completed"
    },
    "tags": []
   },
   "source": [
    "##### Verdict : *The model has predicted correctly*"
   ]
  },
  {
   "cell_type": "markdown",
   "id": "d653751c",
   "metadata": {
    "papermill": {
     "duration": 0.057684,
     "end_time": "2021-09-12T08:21:47.443277",
     "exception": false,
     "start_time": "2021-09-12T08:21:47.385593",
     "status": "completed"
    },
    "tags": []
   },
   "source": [
    "#### Case 2 : Input Values of Patient **not** having Parkinson, let's see if the model is able to predict or not"
   ]
  },
  {
   "cell_type": "code",
   "execution_count": 27,
   "id": "4fabfd1e",
   "metadata": {
    "execution": {
     "iopub.execute_input": "2021-09-12T08:21:47.566220Z",
     "iopub.status.busy": "2021-09-12T08:21:47.560059Z",
     "iopub.status.idle": "2021-09-12T08:21:47.569865Z",
     "shell.execute_reply": "2021-09-12T08:21:47.570581Z",
     "shell.execute_reply.started": "2021-09-12T07:35:44.522553Z"
    },
    "papermill": {
     "duration": 0.070928,
     "end_time": "2021-09-12T08:21:47.570815",
     "exception": false,
     "start_time": "2021-09-12T08:21:47.499887",
     "status": "completed"
    },
    "tags": []
   },
   "outputs": [
    {
     "name": "stdout",
     "output_type": "stream",
     "text": [
      "[0]\n",
      "The patient does not have Parkinson\n"
     ]
    }
   ],
   "source": [
    "input_data = (197.07600,206.89600,192.05500,0.00289,0.00001,0.00166,0.00168,0.00498,0.01098,0.09700,0.00563,0.00680,0.00802,0.01689,0.00339,26.77500,0.422229,0.741367,-7.348300,0.177551,1.743867,0.085569)\n",
    "# changing input data to numpy array\n",
    "input_data_numpy = np.asarray(input_data)\n",
    "\n",
    "#reshaping the numpy array \n",
    "input_data_reshape = input_data_numpy.reshape(1,-1)\n",
    "\n",
    "#standardizing the input data \n",
    "std_data = scaler.transform(input_data_reshape)\n",
    "\n",
    "## prediction\n",
    "prediction = model.predict(std_data)\n",
    "print(prediction)\n",
    "\n",
    "if (prediction[0] == 1):\n",
    "  print('The patient has Parkinson')\n",
    "elif (prediction[0] == 0):\n",
    "  print('The patient does not have Parkinson')\n",
    "else:\n",
    "  print('Some error in processing')"
   ]
  },
  {
   "cell_type": "markdown",
   "id": "c2b0cb32",
   "metadata": {
    "papermill": {
     "duration": 0.056458,
     "end_time": "2021-09-12T08:21:47.685090",
     "exception": false,
     "start_time": "2021-09-12T08:21:47.628632",
     "status": "completed"
    },
    "tags": []
   },
   "source": [
    "##### Verdict : *The model has predicted correctly*"
   ]
  },
  {
   "cell_type": "markdown",
   "id": "47bd8691",
   "metadata": {
    "papermill": {
     "duration": 0.057093,
     "end_time": "2021-09-12T08:21:47.799046",
     "exception": false,
     "start_time": "2021-09-12T08:21:47.741953",
     "status": "completed"
    },
    "tags": []
   },
   "source": [
    "# Extracting the ML Model \n",
    "#### Model can be deployed at backend and taking input using a Front-end system"
   ]
  },
  {
   "cell_type": "markdown",
   "id": "fc3b1c83",
   "metadata": {
    "papermill": {
     "duration": 0.056609,
     "end_time": "2021-09-12T08:21:47.912629",
     "exception": false,
     "start_time": "2021-09-12T08:21:47.856020",
     "status": "completed"
    },
    "tags": []
   },
   "source": [
    "### Method 1 : Using Pickle "
   ]
  },
  {
   "cell_type": "code",
   "execution_count": 28,
   "id": "43f70f3a",
   "metadata": {
    "execution": {
     "iopub.execute_input": "2021-09-12T08:21:48.032127Z",
     "iopub.status.busy": "2021-09-12T08:21:48.031386Z",
     "iopub.status.idle": "2021-09-12T08:21:48.034173Z",
     "shell.execute_reply": "2021-09-12T08:21:48.033476Z",
     "shell.execute_reply.started": "2021-09-12T07:38:49.176624Z"
    },
    "papermill": {
     "duration": 0.064497,
     "end_time": "2021-09-12T08:21:48.034316",
     "exception": false,
     "start_time": "2021-09-12T08:21:47.969819",
     "status": "completed"
    },
    "tags": []
   },
   "outputs": [],
   "source": [
    "import pickle"
   ]
  },
  {
   "cell_type": "code",
   "execution_count": 29,
   "id": "f38a6259",
   "metadata": {
    "execution": {
     "iopub.execute_input": "2021-09-12T08:21:48.154461Z",
     "iopub.status.busy": "2021-09-12T08:21:48.153510Z",
     "iopub.status.idle": "2021-09-12T08:21:48.156162Z",
     "shell.execute_reply": "2021-09-12T08:21:48.155666Z",
     "shell.execute_reply.started": "2021-09-12T07:38:59.311324Z"
    },
    "papermill": {
     "duration": 0.064697,
     "end_time": "2021-09-12T08:21:48.156303",
     "exception": false,
     "start_time": "2021-09-12T08:21:48.091606",
     "status": "completed"
    },
    "tags": []
   },
   "outputs": [],
   "source": [
    "with open('model_pickle','wb') as f:\n",
    "  pickle.dump(model,f)"
   ]
  },
  {
   "cell_type": "code",
   "execution_count": 30,
   "id": "507757e1",
   "metadata": {
    "execution": {
     "iopub.execute_input": "2021-09-12T08:21:48.277714Z",
     "iopub.status.busy": "2021-09-12T08:21:48.276768Z",
     "iopub.status.idle": "2021-09-12T08:21:48.280169Z",
     "shell.execute_reply": "2021-09-12T08:21:48.279635Z",
     "shell.execute_reply.started": "2021-09-12T07:39:56.263539Z"
    },
    "papermill": {
     "duration": 0.066815,
     "end_time": "2021-09-12T08:21:48.280310",
     "exception": false,
     "start_time": "2021-09-12T08:21:48.213495",
     "status": "completed"
    },
    "tags": []
   },
   "outputs": [],
   "source": [
    "with open('model_pickle','rb') as f:\n",
    "  mp = pickle.load(f) #loading the made model"
   ]
  },
  {
   "cell_type": "markdown",
   "id": "b94802f6",
   "metadata": {
    "papermill": {
     "duration": 0.056369,
     "end_time": "2021-09-12T08:21:48.393662",
     "exception": false,
     "start_time": "2021-09-12T08:21:48.337293",
     "status": "completed"
    },
    "tags": []
   },
   "source": [
    "#### Testing the Model "
   ]
  },
  {
   "cell_type": "code",
   "execution_count": 31,
   "id": "31516941",
   "metadata": {
    "execution": {
     "iopub.execute_input": "2021-09-12T08:21:48.523173Z",
     "iopub.status.busy": "2021-09-12T08:21:48.522430Z",
     "iopub.status.idle": "2021-09-12T08:21:48.525158Z",
     "shell.execute_reply": "2021-09-12T08:21:48.525684Z",
     "shell.execute_reply.started": "2021-09-12T07:40:34.094999Z"
    },
    "papermill": {
     "duration": 0.071978,
     "end_time": "2021-09-12T08:21:48.525857",
     "exception": false,
     "start_time": "2021-09-12T08:21:48.453879",
     "status": "completed"
    },
    "tags": []
   },
   "outputs": [
    {
     "name": "stdout",
     "output_type": "stream",
     "text": [
      "[1]\n",
      "The patient has Parkinson\n"
     ]
    }
   ],
   "source": [
    "input_data = (95.730,132.068,91.754,0.00551,0.00006,0.00293,0.00332,0.00880,0.02093,0.191,0.01073,0.01277,0.01717,0.03218,0.01070,21.812,0.615551,0.773587,-5.498678,0.327769,2.322511,0.231571)\n",
    "input_data_numpy = np.asarray(input_data)\n",
    "\n",
    "#reshaping the numpy array \n",
    "input_data_reshape = input_data_numpy.reshape(1,-1)\n",
    "\n",
    "#standardizing the input data \n",
    "std_data = scaler.transform(input_data_reshape)\n",
    "\n",
    "## prediction\n",
    "prediction = mp.predict(std_data) #model made using Pickle\n",
    "print(prediction)\n",
    "\n",
    "if (prediction[0] == 1):\n",
    "  print('The patient has Parkinson')\n",
    "elif (prediction[0] == 0):\n",
    "  print('The patient does not have Parkinson')\n",
    "else:\n",
    "  print('Some error in processing')"
   ]
  },
  {
   "cell_type": "markdown",
   "id": "81ed2ccc",
   "metadata": {
    "papermill": {
     "duration": 0.056648,
     "end_time": "2021-09-12T08:21:48.639727",
     "exception": false,
     "start_time": "2021-09-12T08:21:48.583079",
     "status": "completed"
    },
    "tags": []
   },
   "source": [
    "#### **Observation :** *Model working as desired*"
   ]
  },
  {
   "cell_type": "markdown",
   "id": "332f2879",
   "metadata": {
    "papermill": {
     "duration": 0.056561,
     "end_time": "2021-09-12T08:21:48.753141",
     "exception": false,
     "start_time": "2021-09-12T08:21:48.696580",
     "status": "completed"
    },
    "tags": []
   },
   "source": [
    "### Method 2 : Using Sklearn Joblib"
   ]
  },
  {
   "cell_type": "code",
   "execution_count": 32,
   "id": "f3fa7767",
   "metadata": {
    "execution": {
     "iopub.execute_input": "2021-09-12T08:21:48.918269Z",
     "iopub.status.busy": "2021-09-12T08:21:48.917267Z",
     "iopub.status.idle": "2021-09-12T08:21:48.920153Z",
     "shell.execute_reply": "2021-09-12T08:21:48.919469Z",
     "shell.execute_reply.started": "2021-09-12T07:44:20.052162Z"
    },
    "papermill": {
     "duration": 0.109992,
     "end_time": "2021-09-12T08:21:48.920302",
     "exception": false,
     "start_time": "2021-09-12T08:21:48.810310",
     "status": "completed"
    },
    "tags": []
   },
   "outputs": [],
   "source": [
    "import joblib"
   ]
  },
  {
   "cell_type": "code",
   "execution_count": 33,
   "id": "9dbfaeb7",
   "metadata": {
    "execution": {
     "iopub.execute_input": "2021-09-12T08:21:49.040993Z",
     "iopub.status.busy": "2021-09-12T08:21:49.039427Z",
     "iopub.status.idle": "2021-09-12T08:21:49.046470Z",
     "shell.execute_reply": "2021-09-12T08:21:49.045838Z",
     "shell.execute_reply.started": "2021-09-12T07:44:24.897445Z"
    },
    "papermill": {
     "duration": 0.06913,
     "end_time": "2021-09-12T08:21:49.046618",
     "exception": false,
     "start_time": "2021-09-12T08:21:48.977488",
     "status": "completed"
    },
    "tags": []
   },
   "outputs": [
    {
     "data": {
      "text/plain": [
       "['model-joblib']"
      ]
     },
     "execution_count": 33,
     "metadata": {},
     "output_type": "execute_result"
    }
   ],
   "source": [
    "joblib.dump(model,'model-joblib')"
   ]
  },
  {
   "cell_type": "code",
   "execution_count": 34,
   "id": "b86a8ec5",
   "metadata": {
    "execution": {
     "iopub.execute_input": "2021-09-12T08:21:49.168263Z",
     "iopub.status.busy": "2021-09-12T08:21:49.165145Z",
     "iopub.status.idle": "2021-09-12T08:21:49.170409Z",
     "shell.execute_reply": "2021-09-12T08:21:49.171137Z",
     "shell.execute_reply.started": "2021-09-12T07:44:29.975761Z"
    },
    "papermill": {
     "duration": 0.066567,
     "end_time": "2021-09-12T08:21:49.171329",
     "exception": false,
     "start_time": "2021-09-12T08:21:49.104762",
     "status": "completed"
    },
    "tags": []
   },
   "outputs": [],
   "source": [
    "mj = joblib.load('model-joblib') #loading the model"
   ]
  },
  {
   "cell_type": "markdown",
   "id": "2bc21b56",
   "metadata": {
    "papermill": {
     "duration": 0.057329,
     "end_time": "2021-09-12T08:21:49.286577",
     "exception": false,
     "start_time": "2021-09-12T08:21:49.229248",
     "status": "completed"
    },
    "tags": []
   },
   "source": [
    "#### Testing the Model"
   ]
  },
  {
   "cell_type": "code",
   "execution_count": 35,
   "id": "f6f86222",
   "metadata": {
    "execution": {
     "iopub.execute_input": "2021-09-12T08:21:49.411523Z",
     "iopub.status.busy": "2021-09-12T08:21:49.405329Z",
     "iopub.status.idle": "2021-09-12T08:21:49.414692Z",
     "shell.execute_reply": "2021-09-12T08:21:49.415188Z",
     "shell.execute_reply.started": "2021-09-12T07:44:57.373529Z"
    },
    "papermill": {
     "duration": 0.071265,
     "end_time": "2021-09-12T08:21:49.415356",
     "exception": false,
     "start_time": "2021-09-12T08:21:49.344091",
     "status": "completed"
    },
    "tags": []
   },
   "outputs": [
    {
     "name": "stdout",
     "output_type": "stream",
     "text": [
      "[1]\n",
      "The patient has Parkinson\n"
     ]
    }
   ],
   "source": [
    "input_data = (95.730,132.068,91.754,0.00551,0.00006,0.00293,0.00332,0.00880,0.02093,0.191,0.01073,0.01277,0.01717,0.03218,0.01070,21.812,0.615551,0.773587,-5.498678,0.327769,2.322511,0.231571)\n",
    "input_data_numpy = np.asarray(input_data)\n",
    "\n",
    "#reshaping the numpy array \n",
    "input_data_reshape = input_data_numpy.reshape(1,-1)\n",
    "\n",
    "#standardizing the input data \n",
    "std_data = scaler.transform(input_data_reshape)\n",
    "\n",
    "## prediction\n",
    "prediction = mj.predict(std_data)  #model made using joblib\n",
    "print(prediction)\n",
    "\n",
    "if (prediction[0] == 1):\n",
    "  print('The patient has Parkinson')\n",
    "elif (prediction[0] == 0):\n",
    "  print('The patient does not have Parkinson')\n",
    "else:\n",
    "  print('Some error in processing')"
   ]
  },
  {
   "cell_type": "markdown",
   "id": "264faaff",
   "metadata": {
    "papermill": {
     "duration": 0.05849,
     "end_time": "2021-09-12T08:21:49.531750",
     "exception": false,
     "start_time": "2021-09-12T08:21:49.473260",
     "status": "completed"
    },
    "tags": []
   },
   "source": [
    "Download the Models from my Github : https://github.com/SagarBapodara/Parkison_Disease_Detection_ML"
   ]
  },
  {
   "cell_type": "markdown",
   "id": "9e2a5a3f",
   "metadata": {
    "papermill": {
     "duration": 0.057795,
     "end_time": "2021-09-12T08:21:49.647602",
     "exception": false,
     "start_time": "2021-09-12T08:21:49.589807",
     "status": "completed"
    },
    "tags": []
   },
   "source": [
    "## If you found this useful, kindly upvote and comment your views :) "
   ]
  }
 ],
 "metadata": {
  "kernelspec": {
   "display_name": "Python 3",
   "language": "python",
   "name": "python3"
  },
  "language_info": {
   "codemirror_mode": {
    "name": "ipython",
    "version": 3
   },
   "file_extension": ".py",
   "mimetype": "text/x-python",
   "name": "python",
   "nbconvert_exporter": "python",
   "pygments_lexer": "ipython3",
   "version": "3.7.10"
  },
  "papermill": {
   "default_parameters": {},
   "duration": 20.601141,
   "end_time": "2021-09-12T08:21:50.415503",
   "environment_variables": {},
   "exception": null,
   "input_path": "__notebook__.ipynb",
   "output_path": "__notebook__.ipynb",
   "parameters": {},
   "start_time": "2021-09-12T08:21:29.814362",
   "version": "2.3.3"
  }
 },
 "nbformat": 4,
 "nbformat_minor": 5
}
